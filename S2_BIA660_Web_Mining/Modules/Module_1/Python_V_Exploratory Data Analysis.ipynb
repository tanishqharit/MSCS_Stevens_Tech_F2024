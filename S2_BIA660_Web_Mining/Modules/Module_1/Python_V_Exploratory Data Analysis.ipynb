{
 "cells": [
  {
   "cell_type": "markdown",
   "metadata": {},
   "source": [
    "# <center>Exploratory Data Analysis (EDA) </center>\n",
    "References:\n",
    "* https://www.datacamp.com/community/tutorials/exploratory-data-analysis-python\n",
    "* Check good EDA notebooks published at Kaggle, e.g.\n",
    "   * https://www.kaggle.com/ekami66/detailed-exploratory-data-analysis-with-python\n",
    "* Visualization:\n",
    "   * https://towardsdatascience.com/pyviz-simplifying-the-data-visualisation-process-in-python-1b6d2cb728f1\n",
    "   * https://medium.com/search?q=python%20visualization"
   ]
  },
  {
   "cell_type": "markdown",
   "metadata": {},
   "source": [
    "Packages used in this notebook:\n",
    "- Visualization: matplotlib, seaborn, plotly \n",
    "- Statistics Analysis: statsmodels"
   ]
  },
  {
   "cell_type": "markdown",
   "metadata": {},
   "source": [
    "##  1. What is Exploratory Data Analysis (EDA)\n",
    "\n",
    "- EDA is an approach to analyzing data sets to \n",
    "  * prepare data for modeling, e.g. \n",
    "    - dealing with missing values\n",
    "    - feature engineering\n",
    "    - correlation analysis etc\n",
    "  * summarize their main characteristics, often with visual methods (i.e. **data profiling**)\n",
    "  * generate hypotheses for subsequent modeling stage "
   ]
  },
  {
   "cell_type": "markdown",
   "metadata": {},
   "source": [
    "## 2. Example\n",
    "- Data set: UCI Auto MPG datset (https://archive.ics.uci.edu/ml/datasets/Auto+MPG)\n",
    "- Target:\n",
    "  * Analyze variable correlation\n",
    "  * Data profiling (visualization)"
   ]
  },
  {
   "cell_type": "code",
   "execution_count": null,
   "metadata": {},
   "outputs": [],
   "source": [
    "# Exercise 2.1. Load the data and library\n",
    "\n",
    "from IPython.core.interactiveshell import InteractiveShell\n",
    "InteractiveShell.ast_node_interactivity = \"all\"\n",
    "\n",
    "import pandas as pd"
   ]
  },
  {
   "cell_type": "code",
   "execution_count": null,
   "metadata": {},
   "outputs": [],
   "source": [
    "df = pd.read_csv('../../dataset/auto-mpg.csv', header=0)\n",
    "df.head()\n",
    "df.info()  # get detailed information of each column"
   ]
  },
  {
   "cell_type": "markdown",
   "metadata": {},
   "source": [
    "## 3. Deal with Missing Values\n",
    "- Find variables with missing values\n",
    "- How to deal variables with missing values\n",
    "  - drop samples (rows)\n",
    "  - drop variables (columns)\n",
    "  - interpolate"
   ]
  },
  {
   "cell_type": "code",
   "execution_count": null,
   "metadata": {},
   "outputs": [],
   "source": [
    "# Exercise 3.1. Create a simply If dataframe\n",
    "# Missing values are shown as NaN (not a number)\n",
    "\n",
    "import numpy as np\n",
    "\n",
    "df1 = pd.DataFrame([[np.nan, 2, np.nan, 0], [3, 4, 6, 1],\n",
    "                   [np.nan, np.nan, np.nan, 5], [5, 8, 2, 5]],\n",
    "                   columns=list('ABCD'))\n",
    "df1"
   ]
  },
  {
   "cell_type": "code",
   "execution_count": null,
   "metadata": {},
   "outputs": [],
   "source": [
    "# Exercise 3.2. Find missing values\n",
    "\n",
    "# determine which value is null\n",
    "df1.isnull()\n",
    "\n",
    "# get number of null values in each row\n",
    "df1.isnull().sum(axis=1)"
   ]
  },
  {
   "cell_type": "code",
   "execution_count": null,
   "metadata": {},
   "outputs": [],
   "source": [
    "#determine which row/columns have null values\n",
    "df1.isnull().any(axis=0)\n",
    "df1.isnull().any(axis=1)\n",
    "\n",
    "# return any row/columns which has at least one null value\n",
    "df1.loc[df1.isnull().any(axis=1)]\n",
    "\n",
    "df1.loc[:, df1.isnull().any(axis=0)]"
   ]
  },
  {
   "cell_type": "code",
   "execution_count": null,
   "metadata": {},
   "outputs": [],
   "source": [
    "# Exercise 3.3. drop missing values\n",
    "df1\n",
    "# to drop row/column which contains any NaN, use how='any'\n",
    "df1.dropna(axis=1, how='any')  \n",
    "\n",
    "# for rows with all NaN, set how = 'all'\n",
    "#df1.dropna(axis=1, how='all')  \n",
    "\n",
    "# drop the columns which have \n",
    "# less than 3 good values (not missing)\n",
    "\n",
    "df1.dropna(axis=0, thresh=3)"
   ]
  },
  {
   "cell_type": "code",
   "execution_count": null,
   "metadata": {},
   "outputs": [],
   "source": [
    "df1.fillna(0)"
   ]
  },
  {
   "cell_type": "code",
   "execution_count": null,
   "metadata": {},
   "outputs": [],
   "source": [
    "# Exercise 3.4. interpolate missing values\n",
    "df1\n",
    "df1.interpolate(method='linear')"
   ]
  },
  {
   "cell_type": "code",
   "execution_count": null,
   "metadata": {},
   "outputs": [],
   "source": [
    "#  now get back to our auto-mpg dataset\n",
    "\n",
    "df.isnull().sum(axis=0)"
   ]
  },
  {
   "cell_type": "code",
   "execution_count": null,
   "metadata": {},
   "outputs": [],
   "source": [
    "# Exercise 3.5. # drop samples that have missing values\n",
    "\n",
    "df=df.dropna(axis=0, how='any')  \n",
    "df.info()"
   ]
  },
  {
   "cell_type": "markdown",
   "metadata": {},
   "source": [
    "## 4. Visualization\n",
    "\n",
    "- Typical graphical techniques used in EDA:\n",
    "  - Bar chart\n",
    "  - Histogram\n",
    "  - Line chart\n",
    "  - Scatter plot\n",
    "  - Heatmap\n",
    "  - ...\n",
    "  \n",
    "- Plot libraries\n",
    "  - Matplotlib: a Python 2D plotting library which produces publication quality figures  \n",
    "  - Seaborn:  a Python visualization library based on matplotlib. It provides a high-level interface for drawing attractive statistical graphics\n",
    "  - Pandas plot: very convenient library based on matplotlib\n",
    "  - Plotly: interactive plots https://plotly.com/chart-studio-help/tutorials/"
   ]
  },
  {
   "cell_type": "code",
   "execution_count": null,
   "metadata": {},
   "outputs": [],
   "source": [
    "# Exercise 4.1. Import plotting libraries\n",
    "\n",
    "import seaborn as sns\n",
    "import matplotlib.pyplot as plt\n",
    "\n",
    "# plot charts inline\n",
    "%matplotlib inline\n"
   ]
  },
  {
   "cell_type": "markdown",
   "metadata": {},
   "source": [
    "### 4.1 Barchart\n",
    "- Different forms: single bar, stacked, verticle, horizontal \n",
    "- Barcharts can be conveniently created using pandas\n",
    "  * by default, **x axis is the index, and y can be columns**\n",
    "  * value_counts, groupby, agg, pivot_table, or crosstab can be used to create values for plotting"
   ]
  },
  {
   "cell_type": "code",
   "execution_count": null,
   "metadata": {},
   "outputs": [],
   "source": [
    "df.cylinders.value_counts()"
   ]
  },
  {
   "cell_type": "code",
   "execution_count": null,
   "metadata": {},
   "outputs": [],
   "source": [
    "# Exercise 4.1.1 Plot number of cars by cylinders\n",
    "\n",
    "ax=df.cylinders.value_counts().sort_index(axis=0).\\\n",
    "   plot.bar(figsize=(6,4), title=\"Model count by cylinders\");\n",
    "\n",
    "# set labels\n",
    "ax.set(ylabel=\"cylinders\", xlabel=\"model count\");\n",
    "\n",
    "# note: \";\" to suppress unwanted output"
   ]
  },
  {
   "cell_type": "code",
   "execution_count": null,
   "metadata": {},
   "outputs": [],
   "source": [
    "# Exercise 4.1.2: create a bar chart to\n",
    "# count models per origin\n"
   ]
  },
  {
   "cell_type": "code",
   "execution_count": null,
   "metadata": {},
   "outputs": [],
   "source": [
    "# Exercise 4.1.2. Use seaborn to generate attractive plot\n",
    "\n",
    "# count cars by year\n",
    "count_by_year=df.model_year.value_counts().reset_index()\n",
    "count_by_year.columns=[\"year\", \"model_count\"]\n",
    "count_by_year"
   ]
  },
  {
   "cell_type": "code",
   "execution_count": null,
   "metadata": {},
   "outputs": [],
   "source": [
    "# set style\n",
    "sns.set_style(\"whitegrid\");\n",
    "\n",
    "plt.figure(figsize=(8,5));\n",
    "\n",
    "# Note x and y parameters should be set properly\n",
    "# However, plot from pandas set x and y automatically\n",
    "\n",
    "sns.barplot(x='year',y='model_count', data=count_by_year);\n",
    "plt.show();   \n"
   ]
  },
  {
   "cell_type": "code",
   "execution_count": null,
   "metadata": {},
   "outputs": [],
   "source": [
    "# plotly\n",
    "import plotly.express as px\n",
    "\n",
    "#long_df = px.data.medals_long()\n",
    "\n",
    "fig = px.bar(count_by_year, x='year',y='model_count',\\\n",
    "              title=\"model by year\")\n",
    "fig.show()\n"
   ]
  },
  {
   "cell_type": "markdown",
   "metadata": {},
   "source": [
    "### 4.2. Line chart"
   ]
  },
  {
   "cell_type": "code",
   "execution_count": null,
   "metadata": {},
   "outputs": [],
   "source": [
    "df.groupby('model_year')[[\"mpg\",\"acceleration\"]].mean()"
   ]
  },
  {
   "cell_type": "code",
   "execution_count": null,
   "metadata": {},
   "outputs": [],
   "source": [
    "# Exercise 4.2.1. line chart\n",
    "\n",
    "# How does mpg/acceleration change over time?\n",
    "\n",
    "# show the relationship between \n",
    "# average mpg/cceleration and model year\n",
    "# also note that two lines can be plotted with explicitly setting x and y\n",
    "\n",
    "df.groupby('model_year')[[\"mpg\",\"acceleration\"]].mean()\\\n",
    ".plot(kind='line', figsize=(8,4))\\\n",
    ".legend(loc='center left', bbox_to_anchor=(1, 0.5));  # set legend\n",
    "\n",
    "# what finding can be seen here?"
   ]
  },
  {
   "cell_type": "markdown",
   "metadata": {},
   "source": [
    "### 4.3 Histogram : learn distribution of varilables"
   ]
  },
  {
   "cell_type": "code",
   "execution_count": null,
   "metadata": {},
   "outputs": [],
   "source": [
    "# Exercise 4.3.1. Histogram\n",
    "\n",
    "# plot histgram using matlibplot\n",
    "plt.figure(figsize=(5, 5));\n",
    "plt.hist(df['weight'], color='g', bins=20);\n",
    "plt.xlabel(\"weight\");\n",
    "plt.ylabel(\"Count\");"
   ]
  },
  {
   "cell_type": "code",
   "execution_count": null,
   "metadata": {},
   "outputs": [],
   "source": [
    "# Exercise 4.3.2. plot histogram and PDF using seaborn\n",
    "\n",
    "sns.set_style(\"whitegrid\")\n",
    "plt.figure(figsize=(5, 5))\n",
    "sns.displot(df[\"horsepower\"], color='g', bins=20);"
   ]
  },
  {
   "cell_type": "code",
   "execution_count": null,
   "metadata": {},
   "outputs": [],
   "source": [
    "# Exercise 4.3.3. plot multiple histogram plots using pandas plot\n",
    "\n",
    "df[['horsepower', 'weight','acceleration','displacement']]\\\n",
    ".hist(figsize=(8, 4), bins=50);"
   ]
  },
  {
   "cell_type": "markdown",
   "metadata": {},
   "source": [
    "### 4.4. Scatterplot: show interaction between variables\n",
    "- Pairwise scatter plot: discover interaction between any pair of variables\n",
    "- Check variable correlation using pd.corr()"
   ]
  },
  {
   "cell_type": "code",
   "execution_count": null,
   "metadata": {},
   "outputs": [],
   "source": [
    "# Exercise 4.4.1. Pairwise scatterplot\n",
    "\n",
    "sns.pairplot(data=df);\n",
    "\n",
    "# mpg, weight, displacement, ... \n",
    "# seem to be highly correlated"
   ]
  },
  {
   "cell_type": "code",
   "execution_count": null,
   "metadata": {},
   "outputs": [],
   "source": [
    "# Exercise 4.4.2. pairwise scatterplot with selected columns\n",
    "\n",
    "# select variables for x and y axis\n",
    "# color the points by origin (hue)\n",
    "\n",
    "sns.pairplot(data=df, x_vars=['mpg', 'weight', 'displacement'],\\\n",
    "             y_vars=['mpg', 'weight', 'displacement'], \\\n",
    "             hue=\"origin\");\n",
    "\n",
    "# anything interesting can be found here?\n",
    "# how about mpg/weight/displacement by origin?\n"
   ]
  },
  {
   "cell_type": "code",
   "execution_count": null,
   "metadata": {},
   "outputs": [],
   "source": [
    "# Exercise 4.4.3. Variable correlation\n",
    "\n",
    "# Keep 3 decimals when printing float numberss\n",
    "pd.options.display.float_format = '{:,.2f}'.format\n",
    "\n",
    "df.corr()"
   ]
  },
  {
   "cell_type": "markdown",
   "metadata": {},
   "source": [
    "### 4.5. FacetGrid: Show variable relationship by facet"
   ]
  },
  {
   "cell_type": "code",
   "execution_count": null,
   "metadata": {},
   "outputs": [],
   "source": [
    "# Exercise 4.6.1.: How is horsepower and mpg correlated\n",
    "#                 for cars from different origin? \n",
    "\n",
    "# Generate grid by origin\n",
    "g = sns.FacetGrid(df, col=\"origin\") ;\n",
    "g\n",
    "# plot a scatterplot between hrsepower and mpg \n",
    "# for each facet in the grid\n",
    "g.map(plt.scatter, \"horsepower\", \"mpg\") ;\n",
    "\n",
    "# what insights can be found from this facet plot?\n"
   ]
  },
  {
   "cell_type": "markdown",
   "metadata": {},
   "source": [
    "## 5. Regression\n",
    "- For details, see http://www.statsmodels.org/dev/example_formulas.html\n",
    "- For categorical variables, you can use R style formulas\n",
    "- Model interpretation: http://connor-johnson.com/2014/02/18/linear-regression-with-python/"
   ]
  },
  {
   "cell_type": "code",
   "execution_count": null,
   "metadata": {},
   "outputs": [],
   "source": [
    "# Exercise 5.1.  OLS(ordinary least squares) regression \n",
    "\n",
    "# linear regression between mpg and other factors\n",
    "\n",
    "\n",
    "import statsmodels.api as sm\n",
    "\n",
    "\n",
    "X = df[['cylinders', 'displacement','horsepower',\\\n",
    "        'weight','acceleration']]\n",
    "\n",
    "# add Intercept\n",
    "X = sm.add_constant(X)\n",
    "Y = df.mpg\n",
    "\n",
    "model = sm.OLS(Y,X).fit()\n",
    "\n",
    "\n",
    "# Print out the statistics\n",
    "model.summary()\n"
   ]
  },
  {
   "cell_type": "code",
   "execution_count": null,
   "metadata": {},
   "outputs": [],
   "source": [
    "# Exercise 5.2.\n",
    "# Use C to get dummy variables\n",
    "\n",
    "import statsmodels.formula.api as smf\n",
    "\n",
    "\n",
    "model = smf.ols(formula = 'mpg ~ cylinders + displacement+horsepower+ weight \\\n",
    "                          + acceleration+ C(origin)', \\\n",
    "                   data = df).fit();\n",
    "\n",
    "# Print out the statistics\n",
    "model.summary()"
   ]
  },
  {
   "cell_type": "code",
   "execution_count": null,
   "metadata": {},
   "outputs": [],
   "source": []
  }
 ],
 "metadata": {
  "kernelspec": {
   "display_name": "Python 3",
   "language": "python",
   "name": "python3"
  },
  "language_info": {
   "codemirror_mode": {
    "name": "ipython",
    "version": 3
   },
   "file_extension": ".py",
   "mimetype": "text/x-python",
   "name": "python",
   "nbconvert_exporter": "python",
   "pygments_lexer": "ipython3",
   "version": "3.9.0"
  }
 },
 "nbformat": 4,
 "nbformat_minor": 2
}
