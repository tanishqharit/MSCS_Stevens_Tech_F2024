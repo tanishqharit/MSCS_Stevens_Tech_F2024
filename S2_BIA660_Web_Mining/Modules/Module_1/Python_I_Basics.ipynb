{
 "cells": [
  {
   "cell_type": "markdown",
   "metadata": {},
   "source": [
    "# <center>Introduction to Python (I)</center>\n",
    "\n",
    "Refereces: \n",
    "- https://www.tutorialspoint.com/python"
   ]
  },
  {
   "cell_type": "markdown",
   "metadata": {},
   "source": [
    "## 1. Introduction\n",
    "\n",
    " - Python is a general-purpose *interpreted*, *object-oriented*, and high-level programming language\n",
    "   - Questions: \n",
    "     - What is the difference between *interpreted* and *compiled* languages? \n",
    "     - Do you know any compiled languages? \n",
    "     - Check https://www.programiz.com/article/difference-compiler-interpreter for answers\n",
    "    \n",
    " - Dynamically typed: variables do not have a predefined type\n",
    " - “Batteries included”: large collection of proven modules included in the standard Python distribution\n",
    " - Thousands of third party packages (collections of modules) available at https://pypi.python.org/pypi\n",
    "\n"
   ]
  },
  {
   "cell_type": "markdown",
   "metadata": {},
   "source": [
    "## 2. Python Environment\n",
    "- See what version of Python you have\n",
    "- Check your current working folder and python system path"
   ]
  },
  {
   "cell_type": "code",
   "execution_count": null,
   "metadata": {},
   "outputs": [],
   "source": [
    "# Exercise 2.1: Check your python environment\n",
    "\n",
    "import os, sys\n",
    "\n",
    "# Show Python version\n",
    "print(\"Python Version: \", sys.version)\n",
    "\n",
    "# Get your current working folder\n",
    "print(\"Current Working Folder: \", os.getcwd())\n",
    "\n",
    "# Change your current working folder to another folder\n",
    "# for mac: e.g. /Users/xyz/temp\n",
    "# for windows users: e.g. \"C:/xyz\". ***Don't use backslash \"\\\" ***\n",
    "os.chdir(\"/Users/rliu/temp\")  \n",
    "\n",
    "# print something to a file without specifying its path\n",
    "# where can you find the file?\n",
    "print(\"hello world\", file=open(\"helloworld.txt\",'w'))"
   ]
  },
  {
   "cell_type": "code",
   "execution_count": null,
   "metadata": {},
   "outputs": [],
   "source": [
    "# Exercise 2.2: Check system path of your python. \n",
    "# These are the paths Python will search for modules\n",
    "\n",
    "print(sys.path)"
   ]
  },
  {
   "cell_type": "markdown",
   "metadata": {},
   "source": [
    "## 3. Basic Syntax\n",
    "\n",
    "### 3.1 ** Python identifier ** : name to identify a variable, function, class, module, object###\n",
    " * Starts with a letter or underscore (_) followed by letters, underscore, and digits\n",
    " * No punctuations\n",
    " * Case sensitive: “Web” ≠ “web”\n",
    " * Reserved words: <font color=blue> **and**, **break**, **def**, **if**, **else** </font>, …\n",
    "\n",
    "### 3.2. ** Lines and indentation **###\n",
    " * Blocks of code are denoted by <font color=blue>**line indentation**</font> (**not braces!**)\n",
    " * The number of spaces in the indentation varies, <font color=blue> ** but all statements within the block must be indented the same amount ** </font>\n",
    " *  All the continuous lines indented with same number of spaces form a block\n"
   ]
  },
  {
   "cell_type": "code",
   "execution_count": null,
   "metadata": {},
   "outputs": [],
   "source": [
    "# Exercise 3.2.1: Indentation - Correct Example\n",
    "\n",
    "x=True\n",
    "\n",
    "if x:\n",
    "    print(\"True\")\n",
    "    print('correct indentation')\n",
    "else:\n",
    "    print(\"False\")"
   ]
  },
  {
   "cell_type": "code",
   "execution_count": null,
   "metadata": {},
   "outputs": [],
   "source": [
    "# Exercise 3.2.2: Indentation - Incorrect Example\n",
    "#                 Try fix it\n",
    "\n",
    "x=False\n",
    "\n",
    "if x:\n",
    "    print (\"True\")\n",
    "else:\n",
    "    print (\"False\")   \n",
    "  print (\"Incorrect indentation\")"
   ]
  },
  {
   "cell_type": "markdown",
   "metadata": {},
   "source": [
    "### 3.3.  Quotation ###\n",
    " * **single (<font color=blue>'</font>)**, **double (<font color=blue>\"</font>)** and **triple (<font color=blue>'''</font> or <font color=blue>\"\"\"</font>)** quotes are acceptable to denote string literals\n",
    " * The triple quotes are used to span the string across multiple lines."
   ]
  },
  {
   "cell_type": "code",
   "execution_count": null,
   "metadata": {},
   "outputs": [],
   "source": [
    "# Exercise 3.3.1: Quotes\n",
    "\n",
    "word = 'word'\n",
    "print(\"1. \", word)\n",
    "\n",
    "sentence = \"This is a sentence.\"\n",
    "print(\"2. \", sentence)\n",
    "\n",
    "paragraph = \"\"\"This is a paragraph with multiple lines. \n",
    "line 1\n",
    "line 2\"\"\"\n",
    "print (\"3. \",paragraph)\n",
    "\n",
    "# Question: how to include quotes in strings (e.g. I'm fine)?\n",
    "print(\"I'm fine\")\n",
    "print('I\\'m fine')   # escape"
   ]
  },
  {
   "cell_type": "markdown",
   "metadata": {},
   "source": [
    "### 3.4. **Comments**###\n",
    "* **Hash sign (<font color=blue>#</font>)** begins a comment\n",
    "* All characters after the # and up to the end of the physical line are part of the comment and the Python interpreter ignores them.\n",
    "* Add appropriate comments to increase your code readability"
   ]
  },
  {
   "cell_type": "code",
   "execution_count": null,
   "metadata": {},
   "outputs": [],
   "source": [
    "# Exercise 3.4.1: Comments\n",
    "\n",
    "# First comment\n",
    "print (\"Hello, Python!\") # second comment"
   ]
  },
  {
   "cell_type": "markdown",
   "metadata": {},
   "source": [
    "### 3.5. ** Variable assignment **###\n",
    " * **The equal sign (<font color=blue>=</font>)** is used to assign values to variables\n",
    " * No need to declare variable type\n",
    " * You can assign a single value to multiple variables simultaneously\n",
    " * Or assign multiple objects to multiple variables perspectively"
   ]
  },
  {
   "cell_type": "code",
   "execution_count": null,
   "metadata": {},
   "outputs": [],
   "source": [
    "# Exercise 3.5.1: Assignment\n",
    "\n",
    "# assign variables without declaring their types\n",
    "counter = 100          # An integer assignment\n",
    "miles   = 1000.0       # A floating point\n",
    "name    = \"John\"       # A string\n",
    "\n",
    "# assign a single value to multiple variables\n",
    "a = b =  '1'\n",
    "print(\"a =\", a)\n",
    "print(\"b =\", b)\n",
    "\n",
    "# assign multiple objects to multiple variables respectively\n",
    "a,b = '1',\"john\"\n",
    "print(\"a =\", a)\n",
    "print(\"b =\", b)"
   ]
  },
  {
   "cell_type": "markdown",
   "metadata": {},
   "source": [
    "## 4. Standard Data Types: Number, String, List, Tuple, Dictionary, Iterator"
   ]
  },
  {
   "cell_type": "markdown",
   "metadata": {},
   "source": [
    "### 4.1. **Numbers**###\n",
    " * 3 different numerical types: int, float, complex\n",
    " * int: 10, 100, -123\n",
    " * float (floating point real values): 0.0, 15.20\n",
    " * complex: (complex numbers): 3.14**<font color=blue>j</font>**\n",
    " \n",
    "<div class=\"alert alert-block alert-info\">In python 2, there is another data type for numbers: long. This data type is removed in Python 3. \"int\" in Python 3 is equivalent to \"long\" in Python 2 </div>"
   ]
  },
  {
   "cell_type": "markdown",
   "metadata": {},
   "source": [
    "### 4.2. **Strings** ###\n",
    " * Strings are identified as a contiguous set of characters represented in the quotation marks\n",
    " * Substrings can be taken using slice operator **<font color=blue>[ ]</font>** with indexes starting at **<font color=blue>0</font> in the beginning of the string ** and working their way from **<font color=blue>-1</font> at the end **.\n",
    " * Strings can be concatenated using **<font color=blue>+</font>**\n",
    " * Useful string functions: **<font color=blue>strip, lstrip, rstrip, split, lower, upper, find, rfind, replace</font>**"
   ]
  },
  {
   "cell_type": "code",
   "execution_count": null,
   "metadata": {},
   "outputs": [],
   "source": [
    "# Exercise 4.2.1: Strings\n",
    "\n",
    "s=''               # an empty string\n",
    "s = 'Hello World!'\n",
    "\n",
    "print(\"1. \", s)          # Prints complete string\n",
    "print(\"2. \", s[0])       # Prints first character of the string\n",
    "print(\"3. \", s[2:5])     # Prints characters starting from 3rd to 5th\n",
    "print(\"4. \", s[2:] )     # Prints string starting from 3rd character\n",
    "print(\"5. \", s[-1])      # Prints the last character \n",
    "\n",
    "# Question: how to get the last three characters?  \n",
    "\n",
    "print(\"6. \", s + \" TEST\") # Prints concatenated string\n",
    "print(\"7. \", s[0:10:2])   # step-wise slicing; \n",
    "                          # extracting characters with \n",
    "                          # even indexes from the first 10 characters\n",
    "\n",
    "# Make sure you understand the outputs of each script"
   ]
  },
  {
   "cell_type": "code",
   "execution_count": null,
   "metadata": {},
   "outputs": [],
   "source": [
    "# Exercise 4.2.2: Useful string functions\n",
    "\n",
    "s='   Welcome to Web Mining Class   '\n",
    "print (\"1. \", s.strip() )            # remove both leading and trailing spaces\n",
    "print (\"2. \", s.lstrip() )           # remove leading spaces\n",
    "print (\"3. \", s.rstrip()  )          # remove trailing spaces\n",
    "print (\"4. \", s.split(\" \"))          # split s by delimiter \" \" into a list\n",
    "print (\"5. \", s.lower())             # convert to lowercase\n",
    "print (\"6. \", s.upper())             # convert to uppercase\n",
    "print (\"7. \", s.find(\"W\"))           # get the index of the first \"W\" in s starting from the left; return -1 if \"W\" is not in s\n",
    "print (\"8. \", s.rfind(\"W\"))          # get the index of the first \"W\" in s starting from the right; return -1 if \"W\" is not in s\n",
    "print (\"9. \", s.replace(\"W\", \"**\"))  # replace all occurrences of \"W\" by \"**\"\n"
   ]
  },
  {
   "cell_type": "code",
   "execution_count": null,
   "metadata": {},
   "outputs": [],
   "source": [
    "# Exercise 4.2.3: \n",
    "\n",
    "path=\"http://localhost:8888/notebooks/Python_I.ipynb\"\n",
    "\n",
    "# 1. Retrieve the last five characters of the path,  \n",
    "# i.e. get 'ipynb'\n",
    "\n",
    "\n",
    "# 2. retrieve the file name in the path, \n",
    "# i.e. the part after the last \"/\"\n",
    "\n",
    "\n",
    "# 3. reverse the number sequence, \n",
    "# i.e. for string '123456789', print '987654321'\n"
   ]
  },
  {
   "cell_type": "markdown",
   "metadata": {},
   "source": [
    "### 4.3. **Lists** ###\n",
    "* A list contains items separated by **<font color=blue>commas (,) </font>** and enclosed within **<font color=blue> square brackets ([])</font>**, e.g. [ 'abcd', 786 , 2.23, 'john', 70.2 ]\n",
    "* Items in a list can be of **different data type** (different from arrays in C)\n",
    "* Values in a list can be accessed using slice operator **<font color=blue>[ ]</font>** with indexes starting at **<font color=blue>0</font> for the first element ** and working their way from **<font color=blue>-1</font> at the end **.\n",
    "* Lists can be concatenated using **<font color=blue>+</font>**\n",
    "* A string is actually a list of characters without commas!\n",
    "* Items in a list can be of any python data types, e.g. numbers, strings, lists, tuples, dictionaries\n",
    "* List functions: **<font color=blue>append, remove</font>**"
   ]
  },
  {
   "cell_type": "code",
   "execution_count": null,
   "metadata": {},
   "outputs": [],
   "source": [
    "# Exercise 4.3.1: list and list functions\n",
    "\n",
    "list1 = [ 'welcome', \"to\" , \"my\", 'class' ]\n",
    "list2 = ['BIA-660', 'Web', 'Mining']\n",
    "\n",
    "print (\"1. \", list1)          # Prints complete list\n",
    "print (\"2. \", list1[0])       # Prints first element of the list\n",
    "print (\"3. \", list1[1:3])     # Prints elements starting from 2nd till 3rd \n",
    "print (\"4. \", list1[2:])      # Prints elements starting from 3rd element\n",
    "print (\"5. \", list1[-1])      # Prints the last element\n",
    "\n",
    "# concatenate elements in a list\n",
    "print (\"6. \", \" \".join(list1))# join elements into a single string with \" \" as the separator\n",
    "\n",
    "# concatenate lists\n",
    "print (\"7. \", list1 + list2)  # Prints concatenated lists"
   ]
  },
  {
   "cell_type": "code",
   "execution_count": null,
   "metadata": {},
   "outputs": [],
   "source": [
    "# Exercise 4.3.2: Useful functions of lists\n",
    "\n",
    "list3=range(10)       # generate the numbers from 0 to 9; retrun an iterator\n",
    "print (\"1. \", list3)        # print a range object, an iterator\n",
    "print (\"2. \", list(list3))  # convert the iterator to a list\n",
    "\n",
    "list4=range(1,10)     # generate the numbers from 1 to 9\n",
    "print (\"3. \", list(list4))\n",
    "\n",
    "list5=['a','b']*3     # repeat list ['a','b'] three times\n",
    "print (\"4. \", list5)\n",
    "\n",
    "list5.append(\"c\")     # append \"c\" to the end of the list\n",
    "print (\"5. \", list5)\n",
    "\n",
    "list5.remove(\"a\")     # remove the first \"a\" found in the list from the beginning\n",
    "print (\"6. \", list5)           \n",
    "\n",
    "# question: how to remove all 'a'?"
   ]
  },
  {
   "cell_type": "code",
   "execution_count": null,
   "metadata": {},
   "outputs": [],
   "source": [
    "# get index of the first occurrence of \"a\"  \n",
    "print (\"index of first 'a':\",list5.index(\"a\") )         \n",
    "\n",
    "# get count of \"a\" in the list\n",
    "print (\"count of 'a':\", list5.count(\"a\") )   "
   ]
  },
  {
   "cell_type": "code",
   "execution_count": null,
   "metadata": {},
   "outputs": [],
   "source": [
    "# sort list\n",
    "list6=[1,3,5,4,0]\n",
    "print(\"1. \", sorted(list6))  # sort in ascending order\n",
    "print(\"2. \", sorted(list6, reverse=True))  # sort in decending order\n",
    "print(\"3. orignal list: \", list6) \n",
    "\n",
    "x=list6.sort()  #  modifies the list in-place and returns None\n",
    "print(\"4. after sort():\", list6)\n",
    "\n",
    "# Do you know any other way to sort in the decreasing order?\n"
   ]
  },
  {
   "cell_type": "code",
   "execution_count": null,
   "metadata": {},
   "outputs": [],
   "source": [
    "# Exercise 4.3.3: List operations\n",
    "\n",
    "list2 = ['BIA-660', 'Web', 'Analytics']\n",
    "\n",
    "# 1:  How to extract \"660\" from list2\n",
    "\n",
    "\n",
    "# 2: Join the last two elements in list2 \n",
    "#    into a string with \"-\" as the separator, \n",
    "#    i.e. 'Web-Analytics'\n",
    "\n",
    "\n"
   ]
  },
  {
   "cell_type": "markdown",
   "metadata": {},
   "source": [
    "### 4.4. **Tuples** ###\n",
    "*  A tuple consists of a number of values separated by commas enclosed in **<font color=blue>( )</font>** , e.g. ('welcome', \"to\" , \"BA\", 660)\n",
    "*  A tuple is similar to a list in many aspects. However, they differ in the following:\n",
    "    * Tuples are enclosed within parentheses **<font color=blue>( )</font>**, while lists are enclosed in **<font color=blue>[ ]</font>**.\n",
    "    * A tuple, once declared, **<font color=blue>cannot be updated (read-only)</font>**, while the elements and size of a list can be changed"
   ]
  },
  {
   "cell_type": "code",
   "execution_count": null,
   "metadata": {},
   "outputs": [],
   "source": [
    "# Exercise 4.4.1: tuples\n",
    "\n",
    "tuple1 = ( 'welcome', \"to\" , \"my\", 'class' )\n",
    "tuple2 = ('BIA (Web Mining)', 660)\n",
    "\n",
    "print (\"1. \", tuple1)          # Prints complete tuple\n",
    "print (\"2. \", tuple1[0])       # Prints first element of the tuple\n",
    "print (\"3. \", tuple1[1:3])     # Prints elements starting from 2nd till 3rd \n",
    "print (\"4. \", tuple1[2:])      # Prints elements starting from 3rd element\n",
    "print (\"5. \", tuple1 + tuple2)  # Prints concatenated tuples"
   ]
  },
  {
   "cell_type": "code",
   "execution_count": null,
   "metadata": {},
   "outputs": [],
   "source": [
    "# Exercise 4.4.2: Comparison between lists and tuples\n",
    "\n",
    "# list can be updated, while tuple is read only\n",
    "\n",
    "list1 = [ 'welcome', \"to\" , \"my\", 'class' ]\n",
    "tuple1 = ( 'welcome', \"to\" , \"my\", 'class' )\n",
    "list1[0]='WELCOME'\n",
    "\n",
    "# Be sure to understand why the line below is incorrect\n",
    "tuple1[0]='WELCOME'        # incorrect\n",
    "\n",
    "tuple1 = ( 'WELCOME', \"to\" , \"my\", 'class' )"
   ]
  },
  {
   "cell_type": "code",
   "execution_count": null,
   "metadata": {},
   "outputs": [],
   "source": [
    "# Exercise 4.4.3: Make a list of tuples of out of two lists, \n",
    "# e.g. [(1,'Mary'),(2,'Tom'),(3, 'Joe')]\n",
    "\n",
    "ids=[1,2,3]\n",
    "names=['Mary','Tom','Joe']\n",
    "\n",
    "# A efficient way: zip function - combine lists element-wise\n",
    "# zip function in python 3 returns an iterator\n",
    "# use list function to convert an iterator to list\n",
    "print(zip(ids, names))\n",
    "zipped=list(zip(ids, names))   \n",
    "print(zipped)\n",
    "\n",
    "# how to convert zipped back to unzipped?\n"
   ]
  },
  {
   "cell_type": "markdown",
   "metadata": {},
   "source": [
    "### 4.5. **Dictionary** ###\n",
    "*  A dictionary is similar to a lookup table with key-value pairs, e.g. {1:'Mary Joe', 2:'David Johnson'} \n",
    "*  Keys are **unique**\n",
    "*  A dictionary is enclosed by **<font color=blue>curly braces { } </font>** \n",
    "*  Values can be assigned and accessed using **<font color=blue> square braces [ ]</font>**\n",
    "*  Keys are usually **<font color=blue>numbers or strings</font>**, but values can be of any python data types, e.g. numbers, strings, lists, tuples, dictionaries"
   ]
  },
  {
   "cell_type": "code",
   "execution_count": null,
   "metadata": {},
   "outputs": [],
   "source": [
    "# Exercise 4.5.1: dictionary\n",
    "\n",
    "dict1 = {}                     # define an empty dictionary\n",
    "dict1['one'] = \"This is one\"   # add a key-value pair to the dictionary\n",
    "dict1[2]     = \"This is two\"\n",
    "\n",
    "dict2 = {1:'Mary Joe', 2:'David Johnson'}  # a more compact way to define a dictionary\n",
    "\n",
    "print (\"1. \", dict1['one'])       # Prints value for 'one' key\n",
    "print (\"2. \", dict1[2])           # Prints value for 2 key\n",
    "print (\"3. \", dict2)              # Prints complete dictionary\n",
    "print (\"4. \", dict2.keys())       # Prints all the keys\n",
    "print (\"5. \", dict2.values())     # Prints all the values\n",
    "print (\"6. \", list(dict2.items()) ) # print key-value pair as a list of tuples\n"
   ]
  },
  {
   "cell_type": "markdown",
   "metadata": {},
   "source": [
    "### 4.6. **Iterator** ###\n",
    "*  An iterator is simply an object that can be iterated upon. An iterator will return data, one element at a time.\n",
    "*  An iterator must implement two special methods, <font color=blue> iter</font> and  <font color=blue>next</font>.\n",
    "* An object is called **iterable** if we can get an iterator from it. *Iterable objects include lists, tuples, strings, dictionaries* etc. The <font color=blue>__iter__()</font> function returns an iterator from an iterable object.\n",
    "* An iterator object can be used **only once**. When we reach the end and there is no more data to be returned, it will raise the error *StopIteration*.\n",
    "\n",
    "*Question*: when is an iterator useful?\n",
    "\n",
    "* A generator is a function that behaves like an iterator"
   ]
  },
  {
   "cell_type": "code",
   "execution_count": null,
   "metadata": {},
   "outputs": [],
   "source": [
    "# Exercise 4.6.1: iterables\n",
    "\n",
    "# define a list\n",
    "my_list = [4, 7, 0, 3]\n",
    "\n",
    "# get an iterator using iter()\n",
    "my_iter = iter(my_list)\n",
    "print(\"1. \", my_iter)\n",
    "\n",
    "# similarly, you can convert the iterator object back to a list\n",
    "print(\"2. \", list(my_iter))"
   ]
  },
  {
   "cell_type": "code",
   "execution_count": null,
   "metadata": {},
   "outputs": [],
   "source": [
    "## iterate through an iterable using next() \n",
    "my_iter = iter(my_list)\n",
    "\n",
    "#prints 4\n",
    "print(\"1. \", next(my_iter))\n",
    "\n",
    "#prints 7\n",
    "print(\"2. \", next(my_iter))\n",
    "\n",
    "# loop through all remaining elements\n",
    "print(\"3. \")\n",
    "for item in my_iter:\n",
    "    print (item)\n",
    "    \n",
    "# raise StopIteration error if call next again since the for loop has reached the end of the iterator object\n",
    "print(\"4. \", next(my_iter))\n"
   ]
  },
  {
   "cell_type": "markdown",
   "metadata": {},
   "source": [
    "### 4.7. Data Type Coversion ###\n",
    "\n",
    "| Function      | Description                                                                |\n",
    "| :------------- |:----------------------------------------------------------------------------|\n",
    "| int(x)        | Converts string x to integer                                               |\n",
    "| float(x)      | Converts string x to a floating-point number                               |\n",
    "| str(x)        | Converts object x to a string                                              |\n",
    "| list(x)       | Converts sequence x (e.g. tuple, string, set, or dictionary) to a list     |\n",
    "| tuple(x)      | Converts sequence x (e.g. list, string, set, or dictionary) to a tuple     |\n",
    "| dict(x)       | Creates a dictionary using x, which must be a sequence of (key,value) pair |\n",
    "| set(x)        | Converts sequence x to a set, an unordered collections of unique elements  |\n",
    "\n",
    "\n"
   ]
  },
  {
   "cell_type": "code",
   "execution_count": null,
   "metadata": {},
   "outputs": [],
   "source": [
    "# Exercise 4.7.1: data conversion\n",
    "\n",
    "x='123'\n",
    "y='246'\n",
    "\n",
    "z1=int(x)+int(y)                       # convert x and y to integers and add them up\n",
    "print (\"1. z1=int(x)+int(y) : \",z1)\n",
    "\n",
    "z2=float(x)+float(y)                   # convert x and y to floats and add them up\n",
    "print (\"2. z2=float(x)+float(y) : \" ,z2)\n",
    "\n",
    "z3=str(z1)                             # convert z1 to string\n",
    "print (\"3. z3=string of z1 : \",z3)\n",
    "\n",
    "z4=list(x+y)                            # convert x+y, a string to a list\n",
    "print (\"4. z4=list(x+y) : \" ,z4)\n",
    "\n",
    "z5=tuple(x+y)                           # convert x+y, a string to a tuple\n",
    "print (\"5. z5=tuple(x+y) : \" ,z5)\n",
    "\n",
    "xy=[('x',x),('y',y)]\n",
    "\n",
    "z6=dict(xy)                            # convert a list of tuples to a dictionary\n",
    "print (\"6. z6=dict(xy) : \" ,z6)\n",
    "\n",
    "z7=set(z4)                            # convert a list to a set (unique and unordered elements)\n",
    "print (\"7. z7=set(z4) : \" ,list(z7))"
   ]
  },
  {
   "cell_type": "code",
   "execution_count": null,
   "metadata": {},
   "outputs": [],
   "source": [
    "# How to correctly convert a list to a string?\n",
    "# Check the result of the following two methods\n",
    "# See which one is correct\n",
    "\n",
    "list1=['abc','xyz']   # how to get a single string 'abcxyz'?\n",
    "x=str(list1)\n",
    "print(\"1. \", x)\n",
    "print(\"2. \", ''.join(list1))"
   ]
  },
  {
   "cell_type": "markdown",
   "metadata": {},
   "source": [
    "## 5. Python Operators"
   ]
  },
  {
   "cell_type": "markdown",
   "metadata": {},
   "source": [
    "### 5.1.  Basic Operators : <font color=blue>+, -, \\*, /, %, /, \\*\\*, +=, -=</font> ###"
   ]
  },
  {
   "cell_type": "code",
   "execution_count": null,
   "metadata": {},
   "outputs": [],
   "source": [
    "# Exercise 5.1.1.: basic operators\n",
    "\n",
    "a, b=2,7\n",
    "print (\"a+b = \", a+b)             # addition/concatenation\n",
    "print (\"a-b = \", a-b )            # subtraction\n",
    "print (\"a*b = \", a*b )            # multiplication\n",
    "\n",
    "# division. Notice that a,b are integers \n",
    "# in python2, b/a is also an integer\n",
    "# in python3, b/a is a float\n",
    "print (\"b/a = \", b/a )    \n",
    "\n",
    "# modulus, returns remainder\n",
    "print (\"b%a = \", b%a)    \n",
    "# floor division, return quotient which is floored\n",
    "print (\"b//a = \", b//a )     \n",
    "# exponent\n",
    "print (\"b**a = \", b**a )          \n",
    "\n",
    "# concise assignment \n",
    "a+=b\n",
    "# a+=b is equivalent to a = a + b.\n",
    "print (\"after a+=b, a = \", a)       \n",
    "\n",
    "a*=b\n",
    "# a*=b is equivalent to a= a*b. \n",
    "print (\"after a*=b, a = \",a)     \n",
    "# This concise assignment operator can be applied to \n",
    "# other basic operators"
   ]
  },
  {
   "cell_type": "markdown",
   "metadata": {},
   "source": [
    "### 5.2. Comparison Operators: <font color=blue>==, !=, >, <, >=, <=, is, not is, in, not in </font> ###"
   ]
  },
  {
   "cell_type": "code",
   "execution_count": null,
   "metadata": {},
   "outputs": [],
   "source": [
    "# Exercise 5.2.1.: comparison operators  -- value comparison\n",
    "\n",
    "a, b = 2,7\n",
    "\n",
    "print (\"a==b ?\", a==b)          # equal\n",
    "print (\"a!=b ?\", a!=b )         # not Equal\n",
    "print (\"a>b ?\",a>b)             # greater than\n",
    "print (\"a<b ?\",a<b )                 # less than\n",
    "print (\"a>=b ?\",a>=b)                 # greater than or equal\n",
    "print (\"a<=b ?\",a<=b)                # less than or equal"
   ]
  },
  {
   "cell_type": "code",
   "execution_count": null,
   "metadata": {},
   "outputs": [],
   "source": [
    "# Exercise 5.2.2.: comparison operators -- \n",
    "# membership operator\n",
    "\n",
    "a, b, c=2,7, [1,2,3]\n",
    "\n",
    "# test if a is in list c\n",
    "print (\"a in c ? \",a in c) \n",
    "\n",
    "# test if b is not in list c\n",
    "print (\"b not in c ? \",b not in c)     \n",
    "\n",
    "# test if a key is in dictionary dict1\n",
    "dict1={\"105\":\"Mary\", \"010\":\"Joe\",\"030\":\"Tom\"}\n",
    "\n",
    "print(\"020 is a key of dict1 \", \"020\" in dict1)\n",
    "print(\"May is a value of dict1 \", \"Mary\" in dict1.values())\n",
    "print(\"020 is not a key of dict1 \", \"020\" not in dict1)\n",
    "\n",
    "# Note that you can directly use **dict1**. \n",
    "# You can also use **dict1.keys()** "
   ]
  },
  {
   "cell_type": "code",
   "execution_count": null,
   "metadata": {},
   "outputs": [],
   "source": [
    "# Exercise 5.2.3.: comparison operators\n",
    "\n",
    "dict1={\"105\":\"Mary\", \"010\":\"Joe\",\"030\":\"Tom\"}\n",
    "list1=[(\"105\",\"Mary\"), (\"010\",\"Joe\"),(\"030\",\"Tom\")]\n",
    "\n",
    "# Task1: Test if (\"040\",\"John\") is in list1\n",
    "#        or is the tuple in dict1?\n",
    "\n",
    "\n",
    "# Task2: Test if \"040\" is a key of dict1\n",
    "\n",
    "\n",
    "# Task3: Test if \"Joe\" is a value of dict1\n",
    "\n"
   ]
  },
  {
   "cell_type": "markdown",
   "metadata": {},
   "source": [
    "### 5.3. Logical Operators :<font color=blue> and, or, not </font> ###"
   ]
  },
  {
   "cell_type": "code",
   "execution_count": null,
   "metadata": {},
   "outputs": [],
   "source": [
    "# Exercise 5.3.1.: logical operators\n",
    "\n",
    "a, b, c=2,7, [1,2,3]\n",
    "# both conditions are true\n",
    "print (\"(a>b) and (a in c) ?\",(a>b) and (a in c))     \n",
    "# either condition is true\n",
    "print (\"(a>b) or (a in c) ?\",(a>b) or (a in c))\n",
    "# reverse the condition\n",
    "print (\"not (a>b) ?\",not (a>b) )                    "
   ]
  },
  {
   "cell_type": "markdown",
   "metadata": {
    "collapsed": true
   },
   "source": [
    "## Review Exercise"
   ]
  },
  {
   "cell_type": "code",
   "execution_count": null,
   "metadata": {},
   "outputs": [],
   "source": [
    "text = '''Thursday, Partly Cloudy, Low 27 °F\n",
    "          Friday, Light Snow, High 39 °F\n",
    "          Saturday, Snow/Sleet, Low 32 °F'''\n",
    "\n",
    "# 1. process the text into the format of list of lists, i.e. \n",
    "#    [['Thursday', 'Partly Cloudy', 'Low: 27 °F'], ['Friday', ..., ...], ...]\n",
    "\n",
    "\n",
    "\n",
    "# 2. Get all the temperates as numbers, i.e. [['Tonight', 27], [Friday, 39], ...]\n",
    "\n",
    "\n",
    "\n",
    "# 3. Sort the result of #2 by the tempearates in ascending order\n",
    "\n"
   ]
  }
 ],
 "metadata": {
  "anaconda-cloud": {},
  "kernelspec": {
   "display_name": "Python 3",
   "language": "python",
   "name": "python3"
  },
  "language_info": {
   "codemirror_mode": {
    "name": "ipython",
    "version": 3
   },
   "file_extension": ".py",
   "mimetype": "text/x-python",
   "name": "python",
   "nbconvert_exporter": "python",
   "pygments_lexer": "ipython3",
   "version": "3.8.5"
  }
 },
 "nbformat": 4,
 "nbformat_minor": 1
}
