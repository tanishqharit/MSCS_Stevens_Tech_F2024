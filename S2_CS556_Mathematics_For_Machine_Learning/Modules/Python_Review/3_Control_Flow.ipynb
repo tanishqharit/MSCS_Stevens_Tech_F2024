{
 "cells": [
  {
   "cell_type": "markdown",
   "metadata": {},
   "source": [
    "# Conditional Statements"
   ]
  },
  {
   "cell_type": "markdown",
   "metadata": {},
   "source": [
    "## If statements\n",
    "An $\\textbf{if statement}$ is a conditional statement that runs or skips code based on whether a condition is true or false."
   ]
  },
  {
   "cell_type": "code",
   "execution_count": 7,
   "metadata": {},
   "outputs": [
    {
     "name": "stdout",
     "output_type": "stream",
     "text": [
      "Go to the beach 😎✌🏻\n"
     ]
    }
   ],
   "source": [
    "temperature = 79\n",
    "if temperature >= 75:\n",
    "    print(\"Go to the beach 😎✌🏻\")"
   ]
  },
  {
   "cell_type": "markdown",
   "metadata": {},
   "source": [
    "## If Else statements"
   ]
  },
  {
   "cell_type": "code",
   "execution_count": 15,
   "metadata": {},
   "outputs": [
    {
     "name": "stdout",
     "output_type": "stream",
     "text": [
      "Number 5 is odd\n"
     ]
    }
   ],
   "source": [
    "n = 5\n",
    "if n % 2 == 0:\n",
    "    print(\"Number \" + str(n) + \" is even\")\n",
    "else:\n",
    "    print(\"Number \" + str(n) + \" is odd\")"
   ]
  },
  {
   "cell_type": "markdown",
   "metadata": {},
   "source": [
    "## If Elif Else statements"
   ]
  },
  {
   "cell_type": "code",
   "execution_count": 18,
   "metadata": {},
   "outputs": [
    {
     "name": "stdout",
     "output_type": "stream",
     "text": [
      "Go skiing ✌\n"
     ]
    }
   ],
   "source": [
    "temperature = 20\n",
    "if temperature >= 75:\n",
    "    print(\"Go swimming 😎\")\n",
    "elif temperature <= 50:\n",
    "    print(\"Go skiing ✌\")\n",
    "elif temperature <= 30:\n",
    "    print(\"Sleep\")\n",
    "else:\n",
    "    print(\"Great time to study 🧑💻\")"
   ]
  },
  {
   "cell_type": "markdown",
   "metadata": {},
   "source": [
    "## Combining multiple conditions"
   ]
  },
  {
   "cell_type": "code",
   "execution_count": 20,
   "metadata": {},
   "outputs": [
    {
     "name": "stdout",
     "output_type": "stream",
     "text": [
      "Rainbow!\n"
     ]
    }
   ],
   "source": [
    "is_rainy = True\n",
    "is_sunny = True\n",
    "if is_rainy and is_sunny:\n",
    "    print(\"Rainbow!\")\n"
   ]
  },
  {
   "cell_type": "markdown",
   "metadata": {},
   "source": [
    "### Exercise\n",
    "\n",
    "Find the maximum value between three numbers.\n",
    "\n"
   ]
  },
  {
   "cell_type": "code",
   "execution_count": 9,
   "metadata": {},
   "outputs": [
    {
     "name": "stdout",
     "output_type": "stream",
     "text": [
      "3\n"
     ]
    }
   ],
   "source": [
    "a, b, c = 1, 2, 3\n",
    "if a > b and a > c:\n",
    "    print(a)\n",
    "elif b > a and b > c:\n",
    "    print(b)\n",
    "else:\n",
    "    print(c)"
   ]
  },
  {
   "cell_type": "code",
   "execution_count": 27,
   "metadata": {},
   "outputs": [
    {
     "name": "stdout",
     "output_type": "stream",
     "text": [
      "Maximum is  3\n",
      "1 2 3\n"
     ]
    }
   ],
   "source": [
    "a, b, c = 1, 2, 3\n",
    "mx = a\n",
    "if mx < b:\n",
    "    mx = b\n",
    "if mx < c:\n",
    "    mx = c\n",
    "print(\"Maximum is \", mx)\n",
    "print(a,b,c)"
   ]
  },
  {
   "cell_type": "markdown",
   "metadata": {},
   "source": [
    "# Loops\n",
    "Loops allow us to repeat blocks of code. Python has two types of loops.\n",
    "- for loops -> allow us to iterate through an iterable which is an object that can return one of its elements at a time such as lists and strings. Loops are repeated a known number of times.\n",
    "- while loops -> loops that are repeated an unknown number of times and ends when some condition is met. \n"
   ]
  },
  {
   "cell_type": "markdown",
   "metadata": {},
   "source": [
    "## For loops"
   ]
  },
  {
   "cell_type": "code",
   "execution_count": 64,
   "metadata": {},
   "outputs": [
    {
     "name": "stdout",
     "output_type": "stream",
     "text": [
      "Japan\n",
      "South Africa\n",
      "Thailand\n"
     ]
    }
   ],
   "source": [
    "bucket_list = [\"japan\", \"south Africa\", \"Thailand\"]\n",
    "for country in bucket_list:\n",
    "    print(country.title())"
   ]
  },
  {
   "cell_type": "markdown",
   "metadata": {},
   "source": [
    "### Range function\n",
    "Range is a builtin function used to create immutable sequences of number. It takes three integer arguments:\n",
    "- start -> first number in the sequence\n",
    "- stop -> last number of sequence + 1\n",
    "- step -> difference between numbers in the sequence"
   ]
  },
  {
   "cell_type": "code",
   "execution_count": 43,
   "metadata": {},
   "outputs": [
    {
     "name": "stdout",
     "output_type": "stream",
     "text": [
      "10, 15, 20, 25, 30, 35, 40, 45, "
     ]
    }
   ],
   "source": [
    "for number in range(10, 50, 5):\n",
    "    print(number, end = \", \")"
   ]
  },
  {
   "cell_type": "code",
   "execution_count": 44,
   "metadata": {},
   "outputs": [
    {
     "name": "stdout",
     "output_type": "stream",
     "text": [
      "5, 6, 7, 8, 9, 10, "
     ]
    }
   ],
   "source": [
    "for number in range(5, 11):\n",
    "    print(number, end = \", \")"
   ]
  },
  {
   "cell_type": "code",
   "execution_count": 45,
   "metadata": {},
   "outputs": [
    {
     "name": "stdout",
     "output_type": "stream",
     "text": [
      "0, 1, 2, 3, 4, 5, 6, 7, 8, 9, 10, "
     ]
    }
   ],
   "source": [
    "for number in range(11):\n",
    "    print(number, end = \", \")"
   ]
  },
  {
   "cell_type": "code",
   "execution_count": 66,
   "metadata": {},
   "outputs": [
    {
     "name": "stdout",
     "output_type": "stream",
     "text": [
      "['Japan', 'South Africa', 'Thailand']\n"
     ]
    }
   ],
   "source": [
    "bucket_list = [\"japan\", \"south Africa\", \"thailand\"]\n",
    "for index in range(len(bucket_list)):\n",
    "    bucket_list[index] = bucket_list[index].title()\n",
    "print(bucket_list)"
   ]
  },
  {
   "cell_type": "code",
   "execution_count": 67,
   "metadata": {},
   "outputs": [
    {
     "name": "stdout",
     "output_type": "stream",
     "text": [
      "110\n"
     ]
    }
   ],
   "source": [
    "s = 0\n",
    "for i in range(0, 21, 2):\n",
    "    s += i\n",
    "print(s)"
   ]
  },
  {
   "cell_type": "markdown",
   "metadata": {},
   "source": [
    "## While loops"
   ]
  },
  {
   "cell_type": "code",
   "execution_count": 47,
   "metadata": {},
   "outputs": [
    {
     "name": "stdout",
     "output_type": "stream",
     "text": [
      "Sum of first 100 numbers is: 4950\n"
     ]
    }
   ],
   "source": [
    "number = 0\n",
    "s = 0\n",
    "while number < 100:\n",
    "    s += number\n",
    "    number += 1\n",
    "print(\"Sum of first 100 numbers is:\", str(s))\n",
    "    "
   ]
  },
  {
   "cell_type": "markdown",
   "metadata": {},
   "source": [
    "## Zip and Enumerate\n",
    "- zip returns an iterator that combines multiple iterables into one sequence of tuples. Each tuple contains the elements in that position from all the iterables"
   ]
  },
  {
   "cell_type": "code",
   "execution_count": 55,
   "metadata": {},
   "outputs": [],
   "source": [
    "cities = [\"Newport\", \"Hoboken\", \"Weehawken\"]\n",
    "populations = [20000, 50000, 90000]\n"
   ]
  },
  {
   "cell_type": "code",
   "execution_count": 56,
   "metadata": {},
   "outputs": [
    {
     "data": {
      "text/plain": [
       "[('Newport', 20000), ('Hoboken', 50000), ('Weehawken', 90000)]"
      ]
     },
     "execution_count": 56,
     "metadata": {},
     "output_type": "execute_result"
    }
   ],
   "source": [
    "list(zip(cities, populations))"
   ]
  },
  {
   "cell_type": "code",
   "execution_count": 57,
   "metadata": {},
   "outputs": [
    {
     "name": "stdout",
     "output_type": "stream",
     "text": [
      "Newport has a population of 20000\n",
      "Hoboken has a population of 50000\n",
      "Weehawken has a population of 90000\n"
     ]
    }
   ],
   "source": [
    "for city, pop in zip(cities, populations):\n",
    "    print(city, \"has a population of\", pop)"
   ]
  },
  {
   "cell_type": "code",
   "execution_count": 58,
   "metadata": {},
   "outputs": [
    {
     "name": "stdout",
     "output_type": "stream",
     "text": [
      "0 Newport\n",
      "1 Hoboken\n",
      "2 Weehawken\n"
     ]
    }
   ],
   "source": [
    "for i, city in enumerate(cities):\n",
    "    print(i, city)"
   ]
  },
  {
   "cell_type": "markdown",
   "metadata": {},
   "source": [
    "## List comprehensions"
   ]
  },
  {
   "cell_type": "code",
   "execution_count": 2,
   "metadata": {},
   "outputs": [
    {
     "name": "stdout",
     "output_type": "stream",
     "text": [
      "['Japan', 'South Africa', 'Thailand']\n"
     ]
    }
   ],
   "source": [
    "bucket_list = [\"japan\", \"south Africa\", \"thailand\"]\n",
    "for index in range(len(bucket_list)):\n",
    "    bucket_list[index] = bucket_list[index].title()\n",
    "print(bucket_list)"
   ]
  },
  {
   "cell_type": "code",
   "execution_count": 3,
   "metadata": {},
   "outputs": [
    {
     "name": "stdout",
     "output_type": "stream",
     "text": [
      "['Japan', 'South Africa', 'Thailand']\n"
     ]
    }
   ],
   "source": [
    "bucket_list = [\"japan\", \"south Africa\", \"thailand\"]\n",
    "capitalized_list = [country.title() for country in bucket_list]\n",
    "print(capitalized_list)"
   ]
  },
  {
   "cell_type": "markdown",
   "metadata": {},
   "source": [
    "## Exercises \n",
    "1. Create a list of all powers of two for the first 10 positive integers using list comprehension."
   ]
  },
  {
   "cell_type": "code",
   "execution_count": 68,
   "metadata": {},
   "outputs": [
    {
     "name": "stdout",
     "output_type": "stream",
     "text": [
      "[1, 4, 9, 16, 25, 36, 49, 64, 81, 100]\n"
     ]
    }
   ],
   "source": [
    "squares = []\n",
    "for i in range(1, 11):\n",
    "    squares.append(i**2)\n",
    "print(squares)"
   ]
  },
  {
   "cell_type": "code",
   "execution_count": 69,
   "metadata": {},
   "outputs": [
    {
     "name": "stdout",
     "output_type": "stream",
     "text": [
      "[1, 4, 9, 16, 25, 36, 49, 64, 81, 100]\n"
     ]
    }
   ],
   "source": [
    "lc_squares = [i**2 for i in range(1, 11)]\n",
    "print(lc_squares)"
   ]
  },
  {
   "cell_type": "code",
   "execution_count": 70,
   "metadata": {},
   "outputs": [
    {
     "name": "stdout",
     "output_type": "stream",
     "text": [
      "[4, 16, 36, 64, 100]\n"
     ]
    }
   ],
   "source": [
    "even_square =  [i**2 for i in range(1, 11) if i % 2 == 0]\n",
    "print(even_square)"
   ]
  },
  {
   "cell_type": "code",
   "execution_count": 71,
   "metadata": {},
   "outputs": [
    {
     "name": "stdout",
     "output_type": "stream",
     "text": [
      "[1, 4, 3, 16, 5, 36, 7, 64, 9, 100]\n"
     ]
    }
   ],
   "source": [
    "even_square =  [i**2 if i % 2 == 0 else i for i in range(1, 11) ]\n",
    "print(even_square)"
   ]
  },
  {
   "cell_type": "markdown",
   "metadata": {},
   "source": [
    "2. Find if a number n  greater than 2 is prime or not. Sanity check with n = 5039,  n = 39916801 and n = 87178291199"
   ]
  },
  {
   "cell_type": "code",
   "execution_count": 75,
   "metadata": {},
   "outputs": [
    {
     "name": "stdout",
     "output_type": "stream",
     "text": [
      "Takes  6.613380193710327 seconds\n",
      "True\n"
     ]
    }
   ],
   "source": [
    "import time\n",
    "start = time.time()\n",
    "n = 39916801\n",
    "prime = True\n",
    "for i in range(2, n):\n",
    "    if n%i == 0:\n",
    "        prime = False\n",
    "print(\"Takes \", str(time.time() - start), \"seconds\")\n",
    "print(prime)"
   ]
  },
  {
   "cell_type": "code",
   "execution_count": 85,
   "metadata": {},
   "outputs": [
    {
     "name": "stdout",
     "output_type": "stream",
     "text": [
      "100000000\n",
      "200000000\n",
      "300000000\n",
      "400000000\n",
      "500000000\n",
      "600000000\n",
      "700000000\n",
      "800000000\n",
      "900000000\n",
      "1000000000\n",
      "1100000000\n",
      "1200000000\n",
      "1300000000\n",
      "1400000000\n",
      "1500000000\n",
      "1600000000\n",
      "1700000000\n",
      "1800000000\n",
      "1900000000\n",
      "2000000000\n",
      "2100000000\n",
      "2200000000\n",
      "2300000000\n",
      "2400000000\n",
      "2500000000\n",
      "2600000000\n",
      "2700000000\n",
      "2800000000\n",
      "2900000000\n",
      "3000000000\n",
      "3100000000\n",
      "3200000000\n",
      "3300000000\n",
      "3400000000\n",
      "3500000000\n",
      "3600000000\n",
      "3700000000\n",
      "3800000000\n",
      "3900000000\n",
      "4000000000\n",
      "4100000000\n",
      "4200000000\n",
      "4300000000\n",
      "4400000000\n",
      "4500000000\n",
      "4600000000\n",
      "4700000000\n",
      "4800000000\n",
      "4900000000\n",
      "5000000000\n",
      "5100000000\n",
      "5200000000\n",
      "5300000000\n",
      "5400000000\n",
      "5500000000\n",
      "5600000000\n",
      "5700000000\n",
      "5800000000\n",
      "5900000000\n",
      "6000000000\n",
      "6100000000\n",
      "6200000000\n",
      "6300000000\n",
      "6400000000\n",
      "6500000000\n",
      "6600000000\n",
      "6700000000\n",
      "6800000000\n",
      "6900000000\n",
      "7000000000\n",
      "7100000000\n",
      "7200000000\n",
      "7300000000\n",
      "7400000000\n",
      "7500000000\n",
      "7600000000\n",
      "7700000000\n",
      "7800000000\n",
      "7900000000\n",
      "8000000000\n",
      "8100000000\n",
      "8200000000\n",
      "8300000000\n",
      "8400000000\n",
      "8500000000\n",
      "8600000000\n",
      "8700000000\n",
      "8800000000\n",
      "8900000000\n",
      "9000000000\n",
      "9100000000\n",
      "9200000000\n",
      "9300000000\n",
      "9400000000\n",
      "9500000000\n",
      "9600000000\n",
      "9700000000\n",
      "9800000000\n",
      "9900000000\n",
      "10000000000\n",
      "10100000000\n",
      "10200000000\n",
      "10300000000\n",
      "10400000000\n",
      "10500000000\n",
      "10600000000\n",
      "10700000000\n",
      "10800000000\n",
      "10900000000\n",
      "11000000000\n",
      "11100000000\n",
      "11200000000\n",
      "11300000000\n",
      "11400000000\n",
      "11500000000\n",
      "11600000000\n",
      "11700000000\n",
      "11800000000\n",
      "11900000000\n",
      "12000000000\n",
      "12100000000\n",
      "12200000000\n",
      "12300000000\n",
      "12400000000\n",
      "12500000000\n",
      "12600000000\n",
      "12700000000\n",
      "12800000000\n",
      "12900000000\n",
      "13000000000\n",
      "13100000000\n",
      "13200000000\n",
      "13300000000\n",
      "13400000000\n",
      "13500000000\n",
      "13600000000\n",
      "13700000000\n",
      "13800000000\n",
      "13900000000\n",
      "14000000000\n",
      "14100000000\n",
      "14200000000\n",
      "14300000000\n",
      "14400000000\n",
      "14500000000\n",
      "14600000000\n",
      "14700000000\n",
      "14800000000\n",
      "14900000000\n",
      "15000000000\n",
      "15100000000\n",
      "15200000000\n",
      "15300000000\n",
      "15400000000\n",
      "15500000000\n",
      "15600000000\n",
      "15700000000\n",
      "15800000000\n",
      "15900000000\n",
      "16000000000\n",
      "16100000000\n",
      "16200000000\n",
      "16300000000\n",
      "16400000000\n",
      "16500000000\n",
      "16600000000\n",
      "16700000000\n",
      "16800000000\n",
      "16900000000\n",
      "17000000000\n",
      "17100000000\n",
      "17200000000\n",
      "17300000000\n",
      "17400000000\n",
      "17500000000\n",
      "17600000000\n",
      "17700000000\n",
      "17800000000\n",
      "17900000000\n",
      "18000000000\n",
      "18100000000\n",
      "18200000000\n",
      "18300000000\n",
      "18400000000\n",
      "18500000000\n",
      "18600000000\n",
      "18700000000\n",
      "18800000000\n",
      "18900000000\n",
      "19000000000\n",
      "19100000000\n",
      "19200000000\n",
      "19300000000\n",
      "19400000000\n",
      "19500000000\n",
      "19600000000\n",
      "19700000000\n",
      "19800000000\n",
      "19900000000\n",
      "20000000000\n",
      "20100000000\n",
      "20200000000\n",
      "20300000000\n",
      "20400000000\n",
      "20500000000\n",
      "20600000000\n",
      "20700000000\n",
      "20800000000\n",
      "20900000000\n",
      "21000000000\n",
      "21100000000\n",
      "21200000000\n",
      "21300000000\n",
      "21400000000\n",
      "21500000000\n",
      "21600000000\n",
      "21700000000\n",
      "21800000000\n",
      "21900000000\n",
      "22000000000\n",
      "22100000000\n",
      "22200000000\n",
      "22300000000\n",
      "22400000000\n",
      "22500000000\n",
      "22600000000\n",
      "22700000000\n",
      "22800000000\n",
      "22900000000\n",
      "23000000000\n",
      "23100000000\n",
      "23200000000\n",
      "23300000000\n",
      "23400000000\n",
      "23500000000\n",
      "23600000000\n",
      "23700000000\n",
      "23800000000\n",
      "23900000000\n",
      "24000000000\n",
      "24100000000\n",
      "24200000000\n",
      "24300000000\n",
      "24400000000\n",
      "24500000000\n",
      "24600000000\n",
      "24700000000\n",
      "24800000000\n",
      "24900000000\n",
      "25000000000\n",
      "25100000000\n",
      "25200000000\n",
      "25300000000\n",
      "25400000000\n",
      "25500000000\n",
      "25600000000\n",
      "25700000000\n",
      "25800000000\n",
      "25900000000\n",
      "26000000000\n",
      "26100000000\n",
      "26200000000\n",
      "26300000000\n",
      "26400000000\n",
      "26500000000\n",
      "26600000000\n",
      "26700000000\n",
      "26800000000\n",
      "26900000000\n",
      "27000000000\n",
      "27100000000\n",
      "27200000000\n",
      "27300000000\n",
      "27400000000\n",
      "27500000000\n",
      "27600000000\n",
      "27700000000\n",
      "27800000000\n",
      "27900000000\n",
      "28000000000\n",
      "28100000000\n",
      "28200000000\n",
      "28300000000\n",
      "28400000000\n",
      "28500000000\n",
      "28600000000\n",
      "28700000000\n",
      "28800000000\n",
      "28900000000\n",
      "29000000000\n",
      "29100000000\n",
      "29200000000\n",
      "29300000000\n",
      "29400000000\n",
      "29500000000\n",
      "29600000000\n",
      "29700000000\n",
      "29800000000\n",
      "29900000000\n",
      "30000000000\n",
      "30100000000\n",
      "30200000000\n",
      "30300000000\n",
      "30400000000\n",
      "30500000000\n",
      "30600000000\n",
      "30700000000\n",
      "30800000000\n",
      "30900000000\n",
      "31000000000\n",
      "31100000000\n",
      "31200000000\n",
      "31300000000\n",
      "31400000000\n",
      "31500000000\n",
      "31600000000\n",
      "31700000000\n",
      "31800000000\n",
      "31900000000\n",
      "32000000000\n",
      "32100000000\n",
      "32200000000\n",
      "32300000000\n",
      "32400000000\n",
      "32500000000\n",
      "32600000000\n",
      "32700000000\n",
      "32800000000\n",
      "32900000000\n",
      "33000000000\n",
      "33100000000\n",
      "33200000000\n",
      "33300000000\n",
      "33400000000\n",
      "33500000000\n",
      "33600000000\n",
      "33700000000\n",
      "33800000000\n",
      "33900000000\n",
      "34000000000\n",
      "34100000000\n",
      "34200000000\n",
      "34300000000\n",
      "34400000000\n",
      "34500000000\n",
      "34600000000\n",
      "34700000000\n",
      "34800000000\n",
      "34900000000\n",
      "35000000000\n",
      "35100000000\n",
      "35200000000\n",
      "35300000000\n",
      "35400000000\n",
      "35500000000\n",
      "35600000000\n",
      "35700000000\n",
      "35800000000\n",
      "35900000000\n",
      "36000000000\n",
      "36100000000\n",
      "36200000000\n",
      "36300000000\n",
      "36400000000\n",
      "36500000000\n",
      "36600000000\n",
      "36700000000\n",
      "36800000000\n",
      "36900000000\n",
      "37000000000\n",
      "37100000000\n",
      "37200000000\n",
      "37300000000\n",
      "37400000000\n",
      "37500000000\n",
      "37600000000\n",
      "37700000000\n",
      "37800000000\n",
      "37900000000\n",
      "38000000000\n",
      "38100000000\n",
      "38200000000\n",
      "38300000000\n",
      "38400000000\n",
      "38500000000\n",
      "38600000000\n",
      "38700000000\n",
      "38800000000\n",
      "38900000000\n",
      "39000000000\n",
      "39100000000\n",
      "39200000000\n",
      "39300000000\n",
      "39400000000\n",
      "39500000000\n",
      "39600000000\n",
      "39700000000\n",
      "39800000000\n",
      "39900000000\n",
      "40000000000\n",
      "40100000000\n",
      "40200000000\n",
      "40300000000\n",
      "40400000000\n",
      "40500000000\n",
      "40600000000\n",
      "40700000000\n",
      "40800000000\n",
      "40900000000\n",
      "41000000000\n",
      "41100000000\n",
      "41200000000\n",
      "41300000000\n",
      "41400000000\n",
      "41500000000\n",
      "41600000000\n",
      "41700000000\n",
      "41800000000\n",
      "41900000000\n",
      "42000000000\n",
      "42100000000\n",
      "42200000000\n",
      "42300000000\n",
      "42400000000\n",
      "42500000000\n",
      "42600000000\n",
      "42700000000\n",
      "42800000000\n",
      "42900000000\n",
      "43000000000\n",
      "43100000000\n",
      "43200000000\n",
      "43300000000\n",
      "43400000000\n",
      "43500000000\n",
      "Takes  9829.937330007553 seconds\n",
      "True\n"
     ]
    }
   ],
   "source": [
    "start = time.time()\n",
    "n = 87178291199\n",
    "prime = True\n",
    "for i in range(2, n//2):\n",
    "    if i % 100000000 == 0:\n",
    "        print(i)\n",
    "    if n%i == 0:\n",
    "        prime = False\n",
    "print(\"Takes \", str(time.time() - start), \"seconds\")\n",
    "print(prime)"
   ]
  },
  {
   "cell_type": "code",
   "execution_count": 87,
   "metadata": {},
   "outputs": [
    {
     "name": "stdout",
     "output_type": "stream",
     "text": [
      "Takes  0.04407811164855957 seconds\n",
      "True\n"
     ]
    }
   ],
   "source": [
    "import math\n",
    "start = time.time()\n",
    "n = 87178291199\n",
    "prime = True\n",
    "for i in range(2, int(math.sqrt(n))+1):\n",
    "    if n%i == 0:\n",
    "        prime = False\n",
    "print(\"Takes \", str(time.time() - start), \"seconds\")\n",
    "print(prime)"
   ]
  },
  {
   "cell_type": "code",
   "execution_count": null,
   "metadata": {},
   "outputs": [],
   "source": []
  }
 ],
 "metadata": {
  "kernelspec": {
   "display_name": "Python 3",
   "language": "python",
   "name": "python3"
  },
  "language_info": {
   "codemirror_mode": {
    "name": "ipython",
    "version": 3
   },
   "file_extension": ".py",
   "mimetype": "text/x-python",
   "name": "python",
   "nbconvert_exporter": "python",
   "pygments_lexer": "ipython3",
   "version": "3.8.3"
  }
 },
 "nbformat": 4,
 "nbformat_minor": 4
}
