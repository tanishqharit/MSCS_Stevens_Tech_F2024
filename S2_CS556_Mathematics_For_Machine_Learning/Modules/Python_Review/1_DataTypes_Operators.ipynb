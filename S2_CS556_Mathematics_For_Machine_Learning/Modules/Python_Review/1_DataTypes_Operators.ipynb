{
 "cells": [
  {
   "cell_type": "markdown",
   "metadata": {},
   "source": [
    "Python is a general-purpose, versatile, and powerful programming language. It was created by Guido van Rossum, and released in 1991. Python is concise and easy to read and it is widely used from web development to machine learning data science. "
   ]
  },
  {
   "cell_type": "markdown",
   "metadata": {},
   "source": [
    "## Jupyter Notebook and Colab\n",
    "\n",
    "**Jupyter notebooks** let you write and execute Python code locally in your web browser. Jupyter notebooks make it very easy to tinker with code and execute it in bits and pieces; for this reason they are widely used in scientific computing. The easiest way to get jupyter notebook is by installing Anaconda from https://www.anaconda.com/products/distribution#Downloads. \n",
    "\n",
    "**Colab** on the other hand is Google’s flavor of Jupyter notebooks that is particularly suited for machine learning and data analysis and that runs entirely in the cloud. You can access Colab from https://colab.research.google.com/"
   ]
  },
  {
   "cell_type": "code",
   "execution_count": 23,
   "metadata": {},
   "outputs": [
    {
     "name": "stdout",
     "output_type": "stream",
     "text": [
      "10\n"
     ]
    }
   ],
   "source": [
    "print(10)"
   ]
  },
  {
   "cell_type": "markdown",
   "metadata": {},
   "source": [
    "## Arithemetic Operations\n",
    "\n",
    "- {+} Addition \n",
    "- {-} Subtraction\n",
    "- {*} Multiplication *\n",
    "- {%} Modulus\n",
    "- {/} Division\n",
    "- {//} Integer Division (Divides and round down to the nearest integer)\n",
    "- {%} Modulus (The remainder after dividing)\n",
    "- {**} Exponetiation\n",
    "\n",
    "Python arithmetic operators follow the same precedence as math operators. We can use paranthesis to change the order of precedence. "
   ]
  },
  {
   "cell_type": "code",
   "execution_count": 24,
   "metadata": {},
   "outputs": [
    {
     "data": {
      "text/plain": [
       "7"
      ]
     },
     "execution_count": 24,
     "metadata": {},
     "output_type": "execute_result"
    }
   ],
   "source": [
    "3+4"
   ]
  },
  {
   "cell_type": "code",
   "execution_count": 3,
   "metadata": {},
   "outputs": [
    {
     "name": "stdout",
     "output_type": "stream",
     "text": [
      "2\n"
     ]
    }
   ],
   "source": [
    "print(4-2)"
   ]
  },
  {
   "cell_type": "code",
   "execution_count": 4,
   "metadata": {},
   "outputs": [
    {
     "name": "stdout",
     "output_type": "stream",
     "text": [
      "36\n"
     ]
    }
   ],
   "source": [
    "print(3*12)"
   ]
  },
  {
   "cell_type": "code",
   "execution_count": 5,
   "metadata": {},
   "outputs": [
    {
     "name": "stdout",
     "output_type": "stream",
     "text": [
      "2.5\n"
     ]
    }
   ],
   "source": [
    "print(5/2)"
   ]
  },
  {
   "cell_type": "code",
   "execution_count": 6,
   "metadata": {},
   "outputs": [
    {
     "name": "stdout",
     "output_type": "stream",
     "text": [
      "2\n"
     ]
    }
   ],
   "source": [
    "print(5//2)"
   ]
  },
  {
   "cell_type": "code",
   "execution_count": 7,
   "metadata": {},
   "outputs": [
    {
     "name": "stdout",
     "output_type": "stream",
     "text": [
      "25\n"
     ]
    }
   ],
   "source": [
    "print(5**2)"
   ]
  },
  {
   "cell_type": "markdown",
   "metadata": {},
   "source": [
    "### Exercise 1\n",
    "Write an expression that calculates the average of 32, 12 and 46. Place the expression in a print statement."
   ]
  },
  {
   "cell_type": "code",
   "execution_count": 31,
   "metadata": {},
   "outputs": [
    {
     "name": "stdout",
     "output_type": "stream",
     "text": [
      "30.0\n"
     ]
    }
   ],
   "source": [
    "print((32 + 12 + 46)/3)"
   ]
  },
  {
   "cell_type": "markdown",
   "metadata": {},
   "source": [
    "### Exercise 2\n",
    "Write an expression that calculates the following formula. Place the expression in a print statement. $\\frac{4(8-5)}{2^3 - 7}$"
   ]
  },
  {
   "cell_type": "code",
   "execution_count": 10,
   "metadata": {},
   "outputs": [
    {
     "name": "stdout",
     "output_type": "stream",
     "text": [
      "12.0\n"
     ]
    }
   ],
   "source": [
    "print((4 * (8 - 5))/(2**3 - 7))"
   ]
  },
  {
   "cell_type": "markdown",
   "metadata": {},
   "source": [
    "## Variables and Assignment Operators"
   ]
  },
  {
   "cell_type": "markdown",
   "metadata": {},
   "source": [
    "Variables are containers for storing data values. We can use the assign operator = to give values to variables. After assignment we can use the variable name to access its value.\n",
    "\n",
    "Rules for naming variables\n",
    "- Variable names should be descriptive of the values they hold\n",
    "- Only use ordinary letters, numbers and underscores\n",
    "- Names can not have spaces\n",
    "- They need to start with a letter or underscore\n",
    "- You can not use reserved words or build-in identifiers. A list of Python reserved words can be found in https://www.w3schools.com/python/python_ref_keywords.asp. "
   ]
  },
  {
   "cell_type": "code",
   "execution_count": 19,
   "metadata": {},
   "outputs": [],
   "source": [
    "number_rooms = 3"
   ]
  },
  {
   "cell_type": "code",
   "execution_count": 25,
   "metadata": {},
   "outputs": [
    {
     "ename": "SyntaxError",
     "evalue": "unexpected EOF while parsing (<ipython-input-25-8f49a6eeba80>, line 1)",
     "output_type": "error",
     "traceback": [
      "\u001b[0;36m  File \u001b[0;32m\"<ipython-input-25-8f49a6eeba80>\"\u001b[0;36m, line \u001b[0;32m1\u001b[0m\n\u001b[0;31m    print(number_rooms\u001b[0m\n\u001b[0m                      ^\u001b[0m\n\u001b[0;31mSyntaxError\u001b[0m\u001b[0;31m:\u001b[0m unexpected EOF while parsing\n"
     ]
    }
   ],
   "source": [
    "print(number_rooms"
   ]
  },
  {
   "cell_type": "code",
   "execution_count": 21,
   "metadata": {},
   "outputs": [
    {
     "ename": "NameError",
     "evalue": "name 'nr_bathrooms' is not defined",
     "output_type": "error",
     "traceback": [
      "\u001b[0;31m---------------------------------------------------------------------------\u001b[0m",
      "\u001b[0;31mNameError\u001b[0m                                 Traceback (most recent call last)",
      "\u001b[0;32m<ipython-input-21-d4192e9fac01>\u001b[0m in \u001b[0;36m<module>\u001b[0;34m\u001b[0m\n\u001b[0;32m----> 1\u001b[0;31m \u001b[0mprint\u001b[0m\u001b[0;34m(\u001b[0m\u001b[0mnr_bathrooms\u001b[0m\u001b[0;34m)\u001b[0m \u001b[0;31m# you get an error if you try to get the value of an undefined variable\u001b[0m\u001b[0;34m\u001b[0m\u001b[0;34m\u001b[0m\u001b[0m\n\u001b[0m",
      "\u001b[0;31mNameError\u001b[0m: name 'nr_bathrooms' is not defined"
     ]
    }
   ],
   "source": [
    "print(nr_bathrooms) # you get an error if you try to get the value of an undefined variable"
   ]
  },
  {
   "cell_type": "code",
   "execution_count": 26,
   "metadata": {},
   "outputs": [],
   "source": [
    "x = 3\n",
    "y = 4\n",
    "z = 5"
   ]
  },
  {
   "cell_type": "markdown",
   "metadata": {},
   "source": [
    "Python allows multiple assignments"
   ]
  },
  {
   "cell_type": "code",
   "execution_count": 12,
   "metadata": {},
   "outputs": [],
   "source": [
    "x = 3\n",
    "y = 4\n",
    "z = 3"
   ]
  },
  {
   "cell_type": "code",
   "execution_count": 23,
   "metadata": {},
   "outputs": [],
   "source": [
    "x, y, z = 2, 3, 5"
   ]
  },
  {
   "cell_type": "markdown",
   "metadata": {},
   "source": [
    "We can update values of variable"
   ]
  },
  {
   "cell_type": "code",
   "execution_count": 25,
   "metadata": {},
   "outputs": [],
   "source": [
    "x = 3"
   ]
  },
  {
   "cell_type": "code",
   "execution_count": 26,
   "metadata": {},
   "outputs": [
    {
     "name": "stdout",
     "output_type": "stream",
     "text": [
      "3\n"
     ]
    }
   ],
   "source": [
    "print(x)"
   ]
  },
  {
   "cell_type": "code",
   "execution_count": 27,
   "metadata": {},
   "outputs": [],
   "source": [
    "x = x + 2"
   ]
  },
  {
   "cell_type": "code",
   "execution_count": 28,
   "metadata": {},
   "outputs": [
    {
     "name": "stdout",
     "output_type": "stream",
     "text": [
      "5\n"
     ]
    }
   ],
   "source": [
    "print(x)"
   ]
  },
  {
   "cell_type": "code",
   "execution_count": 29,
   "metadata": {},
   "outputs": [],
   "source": [
    "x += 2"
   ]
  },
  {
   "cell_type": "code",
   "execution_count": 30,
   "metadata": {},
   "outputs": [
    {
     "name": "stdout",
     "output_type": "stream",
     "text": [
      "7\n"
     ]
    }
   ],
   "source": [
    "print(x)"
   ]
  },
  {
   "cell_type": "markdown",
   "metadata": {},
   "source": [
    "### Exercise 3\n",
    "- Create a variable named grade and assign it to 90\n",
    "- Increment the grade by 5 percent\n",
    "- Output the new increased grade"
   ]
  },
  {
   "cell_type": "code",
   "execution_count": 27,
   "metadata": {},
   "outputs": [
    {
     "name": "stdout",
     "output_type": "stream",
     "text": [
      "94.5\n"
     ]
    }
   ],
   "source": [
    "grade = 90\n",
    "new_grade = grade + grade * 0.05\n",
    "print(new_grade)"
   ]
  },
  {
   "cell_type": "code",
   "execution_count": 28,
   "metadata": {},
   "outputs": [
    {
     "name": "stdout",
     "output_type": "stream",
     "text": [
      "94.5\n"
     ]
    }
   ],
   "source": [
    "grade = 90\n",
    "grade *= 1.05\n",
    "print(grade)"
   ]
  },
  {
   "cell_type": "markdown",
   "metadata": {},
   "source": [
    "## Integers and Floats"
   ]
  },
  {
   "cell_type": "markdown",
   "metadata": {},
   "source": [
    "There are two Python data types that can be used for numeric values:\n",
    "\n",
    "- int - for integer values\n",
    "- float - for decimal or floating point values"
   ]
  },
  {
   "cell_type": "code",
   "execution_count": 47,
   "metadata": {},
   "outputs": [],
   "source": [
    "x = 3\n",
    "y = 4.5"
   ]
  },
  {
   "cell_type": "code",
   "execution_count": 48,
   "metadata": {},
   "outputs": [
    {
     "name": "stdout",
     "output_type": "stream",
     "text": [
      "<class 'int'>\n"
     ]
    }
   ],
   "source": [
    "print(type(x))"
   ]
  },
  {
   "cell_type": "code",
   "execution_count": 49,
   "metadata": {},
   "outputs": [
    {
     "name": "stdout",
     "output_type": "stream",
     "text": [
      "<class 'float'>\n"
     ]
    }
   ],
   "source": [
    "print(type(y))"
   ]
  },
  {
   "cell_type": "code",
   "execution_count": 50,
   "metadata": {},
   "outputs": [
    {
     "name": "stdout",
     "output_type": "stream",
     "text": [
      "8.7\n"
     ]
    }
   ],
   "source": [
    "print(2 + 6.7) #An operation between a int and a float produces a float"
   ]
  },
  {
   "cell_type": "markdown",
   "metadata": {},
   "source": [
    "We can cast a type into another as follows."
   ]
  },
  {
   "cell_type": "code",
   "execution_count": 51,
   "metadata": {},
   "outputs": [
    {
     "name": "stdout",
     "output_type": "stream",
     "text": [
      "52\n"
     ]
    }
   ],
   "source": [
    "print(int(52.3))"
   ]
  },
  {
   "cell_type": "code",
   "execution_count": 52,
   "metadata": {},
   "outputs": [
    {
     "name": "stdout",
     "output_type": "stream",
     "text": [
      "45.0\n"
     ]
    }
   ],
   "source": [
    "print(float(45))"
   ]
  },
  {
   "cell_type": "markdown",
   "metadata": {},
   "source": [
    "## Booleans, Comparison Operators and Logical Operators"
   ]
  },
  {
   "cell_type": "markdown",
   "metadata": {},
   "source": [
    "A boolean (bool) is a data type that can have a value of True or False"
   ]
  },
  {
   "cell_type": "code",
   "execution_count": 53,
   "metadata": {},
   "outputs": [],
   "source": [
    "is_raining = True\n",
    "is_sunny = False"
   ]
  },
  {
   "cell_type": "code",
   "execution_count": 54,
   "metadata": {},
   "outputs": [
    {
     "name": "stdout",
     "output_type": "stream",
     "text": [
      "True\n"
     ]
    }
   ],
   "source": [
    "x = 15 > 13\n",
    "print(x)"
   ]
  },
  {
   "cell_type": "markdown",
   "metadata": {},
   "source": [
    "### Comparison Operators\n",
    "- $<\\ $ less than\n",
    "- $>\\ $ greater than\n",
    "- $<=$ less than or equal to\n",
    "- $>=$ greater than or equal to\n",
    "- $==$ equal to\n",
    "- $!=$ not equal to"
   ]
  },
  {
   "cell_type": "markdown",
   "metadata": {},
   "source": [
    "### Logical Operators\n",
    "- and - evaluates if both sides are true\n",
    "- or - evaluates if at least one side is true\n",
    "- not - inververses a boolean type"
   ]
  },
  {
   "cell_type": "code",
   "execution_count": 55,
   "metadata": {},
   "outputs": [
    {
     "name": "stdout",
     "output_type": "stream",
     "text": [
      "True\n"
     ]
    }
   ],
   "source": [
    "is_sunny = True\n",
    "is_weekend = True\n",
    "go_beach = is_sunny and is_weekend\n",
    "print(go_beach)"
   ]
  },
  {
   "cell_type": "code",
   "execution_count": 56,
   "metadata": {},
   "outputs": [
    {
     "name": "stdout",
     "output_type": "stream",
     "text": [
      "False\n"
     ]
    }
   ],
   "source": [
    "stay_home = not go_beach\n",
    "print(stay_home)"
   ]
  },
  {
   "cell_type": "markdown",
   "metadata": {},
   "source": [
    "## Strings\n",
    "A string is an immutable ordered sequence of characters that can be letters, numbers, spaces and symbols. We can create a string by using either single quotes '' or double quotes \"\""
   ]
  },
  {
   "cell_type": "code",
   "execution_count": 57,
   "metadata": {},
   "outputs": [
    {
     "name": "stdout",
     "output_type": "stream",
     "text": [
      "hello world\n"
     ]
    }
   ],
   "source": [
    "print(\"hello world\")"
   ]
  },
  {
   "cell_type": "code",
   "execution_count": 58,
   "metadata": {},
   "outputs": [
    {
     "name": "stdout",
     "output_type": "stream",
     "text": [
      "hello world\n"
     ]
    }
   ],
   "source": [
    "print('hello world')"
   ]
  },
  {
   "cell_type": "code",
   "execution_count": 59,
   "metadata": {},
   "outputs": [
    {
     "name": "stdout",
     "output_type": "stream",
     "text": [
      "Welcome to Stevens\n"
     ]
    }
   ],
   "source": [
    "welcome_message = \"Welcome to Stevens\"\n",
    "print(welcome_message)"
   ]
  },
  {
   "cell_type": "markdown",
   "metadata": {},
   "source": [
    "Arithmetic Operations with strings"
   ]
  },
  {
   "cell_type": "code",
   "execution_count": 29,
   "metadata": {},
   "outputs": [
    {
     "name": "stdout",
     "output_type": "stream",
     "text": [
      "Welcomehere!\n"
     ]
    }
   ],
   "source": [
    "first_word = \"Welcome\"\n",
    "second_word = \"here!\"\n",
    "print(first_word + second_word)"
   ]
  },
  {
   "cell_type": "code",
   "execution_count": 30,
   "metadata": {},
   "outputs": [
    {
     "name": "stdout",
     "output_type": "stream",
     "text": [
      "Welcome here!\n"
     ]
    }
   ],
   "source": [
    "print(first_word + \" \" + second_word)"
   ]
  },
  {
   "cell_type": "code",
   "execution_count": 31,
   "metadata": {},
   "outputs": [
    {
     "name": "stdout",
     "output_type": "stream",
     "text": [
      "WelcomeWelcomeWelcome\n"
     ]
    }
   ],
   "source": [
    "print(first_word*3)"
   ]
  },
  {
   "cell_type": "code",
   "execution_count": 32,
   "metadata": {},
   "outputs": [
    {
     "ename": "TypeError",
     "evalue": "unsupported operand type(s) for -: 'str' and 'int'",
     "output_type": "error",
     "traceback": [
      "\u001b[0;31m---------------------------------------------------------------------------\u001b[0m",
      "\u001b[0;31mTypeError\u001b[0m                                 Traceback (most recent call last)",
      "\u001b[0;32m<ipython-input-32-db0046972ceb>\u001b[0m in \u001b[0;36m<module>\u001b[0;34m\u001b[0m\n\u001b[0;32m----> 1\u001b[0;31m \u001b[0mprint\u001b[0m\u001b[0;34m(\u001b[0m\u001b[0mfirst_word\u001b[0m\u001b[0;34m-\u001b[0m\u001b[0;36m3\u001b[0m\u001b[0;34m)\u001b[0m\u001b[0;34m\u001b[0m\u001b[0;34m\u001b[0m\u001b[0m\n\u001b[0m",
      "\u001b[0;31mTypeError\u001b[0m: unsupported operand type(s) for -: 'str' and 'int'"
     ]
    }
   ],
   "source": [
    "print(first_word-3)"
   ]
  },
  {
   "cell_type": "markdown",
   "metadata": {},
   "source": [
    "Type Converstion between numerical values and strings"
   ]
  },
  {
   "cell_type": "code",
   "execution_count": 67,
   "metadata": {},
   "outputs": [
    {
     "name": "stdout",
     "output_type": "stream",
     "text": [
      "1 Castle Point Terrace, Hoboken\n"
     ]
    }
   ],
   "source": [
    "number = 1\n",
    "street_name = \"Castle Point Terrace\"\n",
    "city = \"Hoboken\"\n",
    "full_address = str(number) + \" \" + street_name + \", \" + city\n",
    "print(full_address)"
   ]
  },
  {
   "cell_type": "markdown",
   "metadata": {},
   "source": [
    "### String Methods\n",
    "\n",
    "A method is a function that \"belogs\" to an object. A full list of python string methods can be found in https://www.w3schools.com/python/python_ref_string.asp"
   ]
  },
  {
   "cell_type": "code",
   "execution_count": 16,
   "metadata": {},
   "outputs": [],
   "source": [
    "message = \"Welcome\""
   ]
  },
  {
   "cell_type": "code",
   "execution_count": 17,
   "metadata": {},
   "outputs": [
    {
     "data": {
      "text/plain": [
       "7"
      ]
     },
     "execution_count": 17,
     "metadata": {},
     "output_type": "execute_result"
    }
   ],
   "source": [
    "# len() - finds length of a string\n",
    "len(message)"
   ]
  },
  {
   "cell_type": "code",
   "execution_count": 18,
   "metadata": {},
   "outputs": [
    {
     "data": {
      "text/plain": [
       "False"
      ]
     },
     "execution_count": 18,
     "metadata": {},
     "output_type": "execute_result"
    }
   ],
   "source": [
    "# islower() - Returns True if all characters in the string are lower case\n",
    "message.islower()"
   ]
  },
  {
   "cell_type": "code",
   "execution_count": 19,
   "metadata": {},
   "outputs": [
    {
     "data": {
      "text/plain": [
       "2"
      ]
     },
     "execution_count": 19,
     "metadata": {},
     "output_type": "execute_result"
    }
   ],
   "source": [
    "# count() - Returns the number of times a specified value occurs in a string\n",
    "message.count(\"e\")"
   ]
  },
  {
   "cell_type": "code",
   "execution_count": 33,
   "metadata": {},
   "outputs": [
    {
     "data": {
      "text/plain": [
       "-1"
      ]
     },
     "execution_count": 33,
     "metadata": {},
     "output_type": "execute_result"
    }
   ],
   "source": [
    "# find() - Searches the string for a specified value and returns the position of where it was found\n",
    "message.find(\"a\")"
   ]
  },
  {
   "cell_type": "code",
   "execution_count": 21,
   "metadata": {},
   "outputs": [
    {
     "data": {
      "text/plain": [
       "['Welcome', 'to', 'Stevens!']"
      ]
     },
     "execution_count": 21,
     "metadata": {},
     "output_type": "execute_result"
    }
   ],
   "source": [
    "# split() - Splits the string at the specified separator, and returns a list\n",
    "message = \"Welcome to Stevens!\"\n",
    "message.split()"
   ]
  },
  {
   "cell_type": "code",
   "execution_count": 22,
   "metadata": {},
   "outputs": [
    {
     "data": {
      "text/plain": [
       "['Welcome ', ' Stevens!']"
      ]
     },
     "execution_count": 22,
     "metadata": {},
     "output_type": "execute_result"
    }
   ],
   "source": [
    "message.split(\"to\")"
   ]
  },
  {
   "cell_type": "markdown",
   "metadata": {},
   "source": [
    "### Exercise\n",
    "Split the following text into a list of words. \n",
    "\n",
    "\"Ten-year-old Harry Potter is an orphan who lives in the fictional London suburb of Little Whinging, Surrey, with the Dursleys: his uncaring Aunt Petunia, loathsome Uncle Vernon, and spoiled cousin Dudley. The Dursleys barely tolerate Harry, and Dudley bullies him. One day Harry is astonished to receive a letter addressed to him in the cupboard under the stairs (where he sleeps). Before he can open the letter, however, Uncle Vernon takes it. Letters for Harry subsequently arrive each day, in increasing numbers, but Uncle Vernon tears them all up, and finally, in an attempt to escape the missives, the Dursleys go to a miserable shack on a small island. On Harry’s 11th birthday, a giant named Hagrid arrives and reveals that Harry is a wizard and that he has been accepted at the Hogwarts School of Witchcraft and Wizardry. He also sheds light on Harry’s past, informing the boy that his parents, a wizard and a witch, were killed by the evil wizard Voldemort and that Harry acquired the lightning-bolt scar on his forehead during the fatal confrontation.\""
   ]
  },
  {
   "cell_type": "code",
   "execution_count": 92,
   "metadata": {},
   "outputs": [],
   "source": [
    "text = \"Ten-year-old Harry Potter is an orphan who lives in the fictional London suburb of Little Whinging, Surrey, with the Dursleys: his uncaring Aunt Petunia, loathsome Uncle Vernon, and spoiled cousin Dudley. The Dursleys barely tolerate Harry, and Dudley bullies him. One day Harry is astonished to receive a letter addressed to him in the cupboard under the stairs (where he sleeps). Before he can open the letter, however, Uncle Vernon takes it. Letters for Harry subsequently arrive each day, in increasing numbers, but Uncle Vernon tears them all up, and finally, in an attempt to escape the missives, the Dursleys go to a miserable shack on a small island. On Harry’s 11th birthday, a giant named Hagrid arrives and reveals that Harry is a wizard and that he has been accepted at the Hogwarts School of Witchcraft and Wizardry. He also sheds light on Harry’s past, informing the boy that his parents, a wizard and a witch, were killed by the evil wizard Voldemort and that Harry acquired the lightning-bolt scar on his forehead during the fatal confrontation.\""
   ]
  },
  {
   "cell_type": "code",
   "execution_count": 89,
   "metadata": {},
   "outputs": [],
   "source": [
    "filtered_text = text.replace(\", \", \" \")\n",
    "filtered_text = filtered_text.replace(\". \", \" \")\n",
    "list_words = filtered_text.split(\" \")"
   ]
  },
  {
   "cell_type": "code",
   "execution_count": 90,
   "metadata": {},
   "outputs": [
    {
     "data": {
      "text/plain": [
       "['Ten-year-old',\n",
       " 'Harry',\n",
       " 'Potter',\n",
       " 'is',\n",
       " 'an',\n",
       " 'orphan',\n",
       " 'who',\n",
       " 'lives',\n",
       " 'in',\n",
       " 'the',\n",
       " 'fictional',\n",
       " 'London',\n",
       " 'suburb',\n",
       " 'of',\n",
       " 'Little',\n",
       " 'WhingingSurreywith',\n",
       " 'the',\n",
       " 'Dursleys:',\n",
       " 'his',\n",
       " 'uncaring',\n",
       " 'Aunt',\n",
       " 'Petunialoathsome',\n",
       " 'Uncle',\n",
       " 'Vernonand',\n",
       " 'spoiled',\n",
       " 'cousin',\n",
       " 'Dudley',\n",
       " 'The',\n",
       " 'Dursleys',\n",
       " 'barely',\n",
       " 'tolerate',\n",
       " 'Harryand',\n",
       " 'Dudley',\n",
       " 'bullies',\n",
       " 'him',\n",
       " 'One',\n",
       " 'day',\n",
       " 'Harry',\n",
       " 'is',\n",
       " 'astonished',\n",
       " 'to',\n",
       " 'receive',\n",
       " 'a',\n",
       " 'letter',\n",
       " 'addressed',\n",
       " 'to',\n",
       " 'him',\n",
       " 'in',\n",
       " 'the',\n",
       " 'cupboard',\n",
       " 'under',\n",
       " 'the',\n",
       " 'stairs',\n",
       " '(where',\n",
       " 'he',\n",
       " 'sleeps)',\n",
       " 'Before',\n",
       " 'he',\n",
       " 'can',\n",
       " 'open',\n",
       " 'the',\n",
       " 'letterhoweverUncle',\n",
       " 'Vernon',\n",
       " 'takes',\n",
       " 'it',\n",
       " 'Letters',\n",
       " 'for',\n",
       " 'Harry',\n",
       " 'subsequently',\n",
       " 'arrive',\n",
       " 'each',\n",
       " 'dayin',\n",
       " 'increasing',\n",
       " 'numbersbut',\n",
       " 'Uncle',\n",
       " 'Vernon',\n",
       " 'tears',\n",
       " 'them',\n",
       " 'all',\n",
       " 'upand',\n",
       " 'finallyin',\n",
       " 'an',\n",
       " 'attempt',\n",
       " 'to',\n",
       " 'escape',\n",
       " 'the',\n",
       " 'missivesthe',\n",
       " 'Dursleys',\n",
       " 'go',\n",
       " 'to',\n",
       " 'a',\n",
       " 'miserable',\n",
       " 'shack',\n",
       " 'on',\n",
       " 'a',\n",
       " 'small',\n",
       " 'island',\n",
       " 'On',\n",
       " 'Harry’s',\n",
       " '11th',\n",
       " 'birthdaya',\n",
       " 'giant',\n",
       " 'named',\n",
       " 'Hagrid',\n",
       " 'arrives',\n",
       " 'and',\n",
       " 'reveals',\n",
       " 'that',\n",
       " 'Harry',\n",
       " 'is',\n",
       " 'a',\n",
       " 'wizard',\n",
       " 'and',\n",
       " 'that',\n",
       " 'he',\n",
       " 'has',\n",
       " 'been',\n",
       " 'accepted',\n",
       " 'at',\n",
       " 'the',\n",
       " 'Hogwarts',\n",
       " 'School',\n",
       " 'of',\n",
       " 'Witchcraft',\n",
       " 'and',\n",
       " 'Wizardry',\n",
       " 'He',\n",
       " 'also',\n",
       " 'sheds',\n",
       " 'light',\n",
       " 'on',\n",
       " 'Harry’s',\n",
       " 'pastinforming',\n",
       " 'the',\n",
       " 'boy',\n",
       " 'that',\n",
       " 'his',\n",
       " 'parentsa',\n",
       " 'wizard',\n",
       " 'and',\n",
       " 'a',\n",
       " 'witchwere',\n",
       " 'killed',\n",
       " 'by',\n",
       " 'the',\n",
       " 'evil',\n",
       " 'wizard',\n",
       " 'Voldemort',\n",
       " 'and',\n",
       " 'that',\n",
       " 'Harry',\n",
       " 'acquired',\n",
       " 'the',\n",
       " 'lightning-bolt',\n",
       " 'scar',\n",
       " 'on',\n",
       " 'his',\n",
       " 'forehead',\n",
       " 'during',\n",
       " 'the',\n",
       " 'fatal',\n",
       " 'confrontation']"
      ]
     },
     "execution_count": 90,
     "metadata": {},
     "output_type": "execute_result"
    }
   ],
   "source": [
    "list_words"
   ]
  }
 ],
 "metadata": {
  "kernelspec": {
   "display_name": "Python 3",
   "language": "python",
   "name": "python3"
  },
  "language_info": {
   "codemirror_mode": {
    "name": "ipython",
    "version": 3
   },
   "file_extension": ".py",
   "mimetype": "text/x-python",
   "name": "python",
   "nbconvert_exporter": "python",
   "pygments_lexer": "ipython3",
   "version": "3.8.3"
  }
 },
 "nbformat": 4,
 "nbformat_minor": 4
}
