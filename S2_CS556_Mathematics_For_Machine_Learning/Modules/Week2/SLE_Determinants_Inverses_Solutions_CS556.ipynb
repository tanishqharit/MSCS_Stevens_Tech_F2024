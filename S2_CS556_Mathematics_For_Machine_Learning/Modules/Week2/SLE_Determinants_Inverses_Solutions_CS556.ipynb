{
 "cells": [
  {
   "cell_type": "markdown",
   "metadata": {
    "id": "signed-sight"
   },
   "source": [
    "# Solving System of Linear Equations with 3 variables\n",
    "\n"
   ]
  },
  {
   "cell_type": "markdown",
   "metadata": {
    "id": "representative-velvet"
   },
   "source": [
    "In this lab we will:\n",
    "\n",
    "- Use `NumPy` linear algebra package to solve a system of linear equations\n",
    "- Perform row transformation operations to bring a matrix into row echelon form\n",
    "- Find the solution for the system of linear equations using the row echolon form of the matrix"
   ]
  },
  {
   "cell_type": "markdown",
   "metadata": {
    "id": "persistent-sweden"
   },
   "source": [
    "## Packages\n",
    "\n",
    "Load the `NumPy` *library* into memory"
   ]
  },
  {
   "cell_type": "code",
   "execution_count": 2,
   "metadata": {
    "id": "metropolitan-shape"
   },
   "outputs": [],
   "source": [
    "import numpy as np"
   ]
  },
  {
   "cell_type": "markdown",
   "metadata": {
    "id": "chief-istanbul"
   },
   "source": [
    "<a name='1'></a>\n",
    "## 1 - Representing and Solving a System of Linear Equations using Matrices"
   ]
  },
  {
   "cell_type": "markdown",
   "metadata": {
    "id": "advance-count"
   },
   "source": [
    "<a name='1.1'></a>\n",
    "### 1.1 - System of Linear Equations\n",
    "\n",
    "Here is a **system of linear equations** with three equations and three unknown variables:\n",
    "\n",
    "\n",
    "$$\\begin{cases}\n",
    "x+\\ \\ y+3z=15 \\\\ x + 2y + 4z = 21 \\\\ x + \\ \\ y+ 2z = 13 \\end{cases}\\tag{1}$$\n",
    "\n",
    "**To solve** this system of linear equations means to find values of $x$, $y$, $z$ that satisfy all of its equations simultaneously."
   ]
  },
  {
   "cell_type": "markdown",
   "metadata": {
    "id": "sharp-strike"
   },
   "source": [
    "<a name='1.2'></a>\n",
    "### 1.2 - Solving Systems of Linear Equations using Matrices\n",
    "\n",
    "Create a a 2-D numpy array $A$ which will be a matrix where each row will represent one equation in the system, and $b$ which must be a 1-D array of the right side coefficients:"
   ]
  },
  {
   "cell_type": "code",
   "execution_count": 3,
   "metadata": {
    "colab": {
     "base_uri": "https://localhost:8080/"
    },
    "id": "tired-filing",
    "outputId": "b455ec1c-2f85-4faf-8278-7c70f12fe7c9"
   },
   "outputs": [
    {
     "name": "stdout",
     "output_type": "stream",
     "text": [
      "Matrix A:\n",
      "[[1. 1. 3.]\n",
      " [1. 2. 4.]\n",
      " [1. 1. 2.]]\n",
      "\n",
      "Array b:\n",
      "[15. 21. 13.]\n"
     ]
    }
   ],
   "source": [
    "A = np.array([\n",
    "        [1, 1, 3],\n",
    "        [1, 2, 4],\n",
    "        [1, 1, 2]\n",
    "    ], dtype=np.dtype(float))\n",
    "\n",
    "b = np.array([15, 21, 13], dtype=np.dtype(float))\n",
    "\n",
    "print(\"Matrix A:\")\n",
    "print(A)\n",
    "print(\"\\nArray b:\")\n",
    "print(b)"
   ]
  },
  {
   "cell_type": "markdown",
   "metadata": {
    "id": "premium-soviet"
   },
   "source": [
    "\n",
    "Print the dimentions of $A$ and $b$ using `shape()` method of `NumPy`.\n",
    "\n"
   ]
  },
  {
   "cell_type": "code",
   "execution_count": 4,
   "metadata": {
    "colab": {
     "base_uri": "https://localhost:8080/"
    },
    "id": "political-aberdeen",
    "outputId": "2b7cada6-2248-4eef-d252-84fbf7a8bc53"
   },
   "outputs": [
    {
     "name": "stdout",
     "output_type": "stream",
     "text": [
      "Shape of A: (3, 3)\n",
      "Shape of b: (3,)\n"
     ]
    }
   ],
   "source": [
    "print(f\"Shape of A: {np.shape(A)}\")\n",
    "print(f\"Shape of b: {np.shape(b)}\")"
   ]
  },
  {
   "cell_type": "markdown",
   "metadata": {
    "id": "complimentary-testimony"
   },
   "source": [
    "Solve the equaiton $Ax=b$ using `np.linalg.solve(A, b)`. The result will be saved in the 1-D array $s$. The elements will correspond to the values of $x$, $y$ and $z$:"
   ]
  },
  {
   "cell_type": "code",
   "execution_count": 5,
   "metadata": {
    "colab": {
     "base_uri": "https://localhost:8080/"
    },
    "id": "broke-vietnamese",
    "outputId": "683e6577-30ba-4d1c-d1ab-b68f5da83a85"
   },
   "outputs": [
    {
     "name": "stdout",
     "output_type": "stream",
     "text": [
      "Solution: [5. 4. 2.]\n"
     ]
    }
   ],
   "source": [
    "s = np.linalg.solve(A, b)\n",
    "\n",
    "print(f\"Solution: {s}\")"
   ]
  },
  {
   "cell_type": "markdown",
   "metadata": {
    "id": "handed-tolerance"
   },
   "source": [
    "<a name='2'></a>\n",
    "## 2 - Solving System of Linear Equations using Row Reduction"
   ]
  },
  {
   "cell_type": "markdown",
   "metadata": {
    "id": "intense-closer"
   },
   "source": [
    "<a name='2.1'></a>\n",
    "### 2.1 - Preparation for Row Reduction\n",
    "\n",
    "\n",
    "Firstly, we need to create an augmented matrix $A$_$system$  by unify  matrix $A$ and array $b$ into one matrix using the `np.hstack()` function.\n"
   ]
  },
  {
   "cell_type": "code",
   "execution_count": 6,
   "metadata": {
    "colab": {
     "base_uri": "https://localhost:8080/"
    },
    "id": "diverse-mayor",
    "outputId": "34caac77-e6a5-4663-da88-24d6284bfe24"
   },
   "outputs": [
    {
     "name": "stdout",
     "output_type": "stream",
     "text": [
      "[[ 1.  1.  3. 15.]\n",
      " [ 1.  2.  4. 21.]\n",
      " [ 1.  1.  2. 13.]]\n"
     ]
    }
   ],
   "source": [
    "A_system = np.hstack((A, b.reshape((3, 1))))\n",
    "\n",
    "print(A_system)"
   ]
  },
  {
   "cell_type": "markdown",
   "metadata": {
    "id": "needed-organ"
   },
   "source": [
    "<a name='2.2'></a>\n",
    "\n",
    "### 2.2 - Elementary Row Operations\n",
    "While solving a system of linear equations, we are allowed to performed these row transformation operations:\n",
    "\n",
    "1.   Multiply one row by a non-zero number\n",
    "2.   Replace one row with the sum of that row with another row.\n",
    "3.   Exchange two rows.\n",
    "\n",
    "\n",
    "Next, we will define one Python function for each of the opeations mentioned above:"
   ]
  },
  {
   "cell_type": "code",
   "execution_count": 7,
   "metadata": {
    "id": "unlimited-promotion"
   },
   "outputs": [],
   "source": [
    "#row = scalar * row\n",
    "def MultiplyRow(M, row, scalar):\n",
    "    M_new = M.copy()\n",
    "    M_new[row] = M_new[row] * scalar\n",
    "    return M_new"
   ]
  },
  {
   "cell_type": "code",
   "execution_count": 8,
   "metadata": {
    "id": "governmental-underwear"
   },
   "outputs": [],
   "source": [
    "# row_num_2 = scalar * row_num_1 + row_num_2,\n",
    "def AddRows(M, row_num_1, row_num_2, scalar):\n",
    "    M_new = M.copy()\n",
    "    M_new[row_num_2] = scalar * M_new[row_num_1] + M_new[row_num_2]\n",
    "    return M_new"
   ]
  },
  {
   "cell_type": "code",
   "execution_count": 9,
   "metadata": {
    "id": "musical-humanity"
   },
   "outputs": [],
   "source": [
    "# exchange row_num_1 and row_num_2 of the matrix M\n",
    "def ExchangeRows(M, row_num_1, row_num_2):\n",
    "    M_new = M.copy()\n",
    "    M_new[[row_num_1, row_num_2]] = M_new[[row_num_2, row_num_1]]\n",
    "    return M_new"
   ]
  },
  {
   "cell_type": "markdown",
   "metadata": {
    "id": "hybrid-circuit"
   },
   "source": [
    "<a name='2.3'></a>\n",
    "\n",
    "\n",
    "### 2.3 - Row Echelon Form\n",
    "Provide all steps to convert Matrix $A$_$system$ into row echelon form.\n",
    "\n",
    "- Row_2 = Row_2 - Row_1"
   ]
  },
  {
   "cell_type": "code",
   "execution_count": 10,
   "metadata": {
    "colab": {
     "base_uri": "https://localhost:8080/"
    },
    "id": "together-dancing",
    "outputId": "d0560c42-5c50-4b15-a2da-0d7e8db83680"
   },
   "outputs": [
    {
     "name": "stdout",
     "output_type": "stream",
     "text": [
      "[[ 1.  1.  3. 15.]\n",
      " [ 0.  1.  1.  6.]\n",
      " [ 1.  1.  2. 13.]]\n"
     ]
    }
   ],
   "source": [
    "A_ref = AddRows(A_system,0,1, -1)\n",
    "print(A_ref)"
   ]
  },
  {
   "cell_type": "markdown",
   "metadata": {
    "id": "composite-pocket"
   },
   "source": [
    "- Row_3  = Row_3 - Row_1"
   ]
  },
  {
   "cell_type": "code",
   "execution_count": 11,
   "metadata": {
    "colab": {
     "base_uri": "https://localhost:8080/"
    },
    "id": "involved-messenger",
    "outputId": "67817351-eb76-43b0-fd64-a064bff28087"
   },
   "outputs": [
    {
     "name": "stdout",
     "output_type": "stream",
     "text": [
      "[[ 1.  1.  3. 15.]\n",
      " [ 0.  1.  1.  6.]\n",
      " [ 0.  0. -1. -2.]]\n"
     ]
    }
   ],
   "source": [
    "A_ref = AddRows(A_ref,0,2,-1)\n",
    "print(A_ref)"
   ]
  },
  {
   "cell_type": "markdown",
   "metadata": {
    "id": "zUwo3qAkklVg"
   },
   "source": [
    "- Row_3 = -1 * Row_3"
   ]
  },
  {
   "cell_type": "code",
   "execution_count": 12,
   "metadata": {
    "colab": {
     "base_uri": "https://localhost:8080/"
    },
    "id": "aboriginal-hydrogen",
    "outputId": "2bdd7352-6b83-47ca-d9a4-48c895e4cf32"
   },
   "outputs": [
    {
     "name": "stdout",
     "output_type": "stream",
     "text": [
      "[[ 1.  1.  3. 15.]\n",
      " [ 0.  1.  1.  6.]\n",
      " [-0. -0.  1.  2.]]\n"
     ]
    }
   ],
   "source": [
    "A_ref = MultiplyRow(A_ref,2, -1)\n",
    "print(A_ref)"
   ]
  },
  {
   "cell_type": "markdown",
   "metadata": {
    "id": "later-colonial"
   },
   "source": [
    "Now, it is easy to find the value of z is 2 from the third row. Moving upward by substritution we can find teh value of y is 4 and value of x is 5.  \n"
   ]
  },
  {
   "cell_type": "code",
   "execution_count": 13,
   "metadata": {
    "colab": {
     "base_uri": "https://localhost:8080/"
    },
    "id": "L5f_nWz-pBju",
    "outputId": "3d19ab2c-f311-4de3-8f86-1b3a8b1d0a99"
   },
   "outputs": [
    {
     "name": "stdout",
     "output_type": "stream",
     "text": [
      "5.0 4.0 2.0\n"
     ]
    }
   ],
   "source": [
    "z = 2.0\n",
    "y = (A_ref[1,3] - A_ref[1,2] * z) / A_ref[1,1]\n",
    "x = (A_ref[0,3] - A_ref[0,2] * z - A_ref[0,1] * y) / A_ref[0,0]\n",
    "\n",
    "print(x, y, z)"
   ]
  },
  {
   "cell_type": "markdown",
   "metadata": {
    "id": "e2xV5aM6leGS"
   },
   "source": [
    "<a name='2.4'></a>\n",
    "\n",
    "\n",
    "### 2.4 - Reduced Row Echelon Form\n",
    "\n",
    "Let us continue our row operations to convert the matrix into reduced row echelon form."
   ]
  },
  {
   "cell_type": "markdown",
   "metadata": {
    "id": "JNdF74bqlpc7"
   },
   "source": [
    "- Row_2  = Row_2 - Row_3"
   ]
  },
  {
   "cell_type": "code",
   "execution_count": 14,
   "metadata": {
    "colab": {
     "base_uri": "https://localhost:8080/"
    },
    "id": "brutal-scott",
    "outputId": "1b8ba3d6-68b1-4451-cc55-5030c2fa5164"
   },
   "outputs": [
    {
     "name": "stdout",
     "output_type": "stream",
     "text": [
      "[[ 1.  1.  3. 15.]\n",
      " [ 0.  1.  0.  4.]\n",
      " [-0. -0.  1.  2.]]\n"
     ]
    }
   ],
   "source": [
    "A_rref = AddRows(A_ref,2,1,-1)\n",
    "print(A_rref)"
   ]
  },
  {
   "cell_type": "markdown",
   "metadata": {
    "id": "south-taste"
   },
   "source": [
    "Row_1 = Row_1 - 3*Row_3"
   ]
  },
  {
   "cell_type": "code",
   "execution_count": 15,
   "metadata": {
    "colab": {
     "base_uri": "https://localhost:8080/"
    },
    "id": "great-address",
    "outputId": "67843ba8-e0f0-4d59-b40b-fc3e15d89101"
   },
   "outputs": [
    {
     "name": "stdout",
     "output_type": "stream",
     "text": [
      "[[ 1.  1.  0.  9.]\n",
      " [ 0.  1.  0.  4.]\n",
      " [-0. -0.  1.  2.]]\n"
     ]
    }
   ],
   "source": [
    "A_rref = AddRows(A_rref,2,0, -3)\n",
    "print(A_rref)"
   ]
  },
  {
   "cell_type": "markdown",
   "metadata": {
    "id": "committed-jaguar"
   },
   "source": [
    "Row_1 = Row_1 - Row_2"
   ]
  },
  {
   "cell_type": "code",
   "execution_count": 16,
   "metadata": {
    "colab": {
     "base_uri": "https://localhost:8080/"
    },
    "id": "8dbhCGZSoh_x",
    "outputId": "0ad6ffb8-e8ac-4849-e1c7-bd1c9bcd6a5b"
   },
   "outputs": [
    {
     "name": "stdout",
     "output_type": "stream",
     "text": [
      "[[ 1.  0.  0.  5.]\n",
      " [ 0.  1.  0.  4.]\n",
      " [-0. -0.  1.  2.]]\n"
     ]
    }
   ],
   "source": [
    "A_rref = AddRows(A_rref, 1, 0, -1)\n",
    "print(A_rref)"
   ]
  },
  {
   "cell_type": "markdown",
   "metadata": {
    "id": "2sgAA63Xorl_"
   },
   "source": [
    "Once, the matrix has reached reduced row echelon form, it is trivial to see that: \\\\\n",
    "$$x = 5 \\\\\n",
    "y = 4 \\\\\n",
    "z=2$$"
   ]
  },
  {
   "cell_type": "code",
   "execution_count": 16,
   "metadata": {
    "id": "rmC15BEZqOD4"
   },
   "outputs": [],
   "source": []
  },
  {
   "cell_type": "markdown",
   "metadata": {
    "id": "DzCkRaJQqSLQ"
   },
   "source": [
    "<a name='3'></a>\n",
    "## 3 - Computing the inverse of matrices using Row Reduction"
   ]
  },
  {
   "cell_type": "code",
   "execution_count": 17,
   "metadata": {
    "colab": {
     "base_uri": "https://localhost:8080/"
    },
    "id": "Gj1zyaeYqalg",
    "outputId": "1d8b4a46-d9ad-462e-f4b0-40cb4bef6177"
   },
   "outputs": [
    {
     "name": "stdout",
     "output_type": "stream",
     "text": [
      "Matrix A: \n",
      "[[1. 1. 3.]\n",
      " [1. 2. 4.]\n",
      " [1. 1. 2.]]\n"
     ]
    }
   ],
   "source": [
    "print(\"Matrix A: \")\n",
    "print(A)"
   ]
  },
  {
   "cell_type": "code",
   "execution_count": 18,
   "metadata": {
    "colab": {
     "base_uri": "https://localhost:8080/"
    },
    "id": "FdXRGlCfqTH2",
    "outputId": "a2ac4351-7171-48ac-bf1f-abe9c0e46341"
   },
   "outputs": [
    {
     "name": "stdout",
     "output_type": "stream",
     "text": [
      "Determinant of A: -1.0\n"
     ]
    }
   ],
   "source": [
    "det = np.linalg.det(A)\n",
    "print(f\"Determinant of A: {det}\")"
   ]
  },
  {
   "cell_type": "code",
   "execution_count": 18,
   "metadata": {
    "id": "Zv8It_-Gq0Xl"
   },
   "outputs": [],
   "source": []
  },
  {
   "cell_type": "markdown",
   "metadata": {
    "id": "8wnZtZvWrBXC"
   },
   "source": [
    "Firstly, we need to create an augmented matrix by unifying matrix A with a 3x3 identity matrix using using the `np.hstack()` function."
   ]
  },
  {
   "cell_type": "code",
   "execution_count": 19,
   "metadata": {
    "colab": {
     "base_uri": "https://localhost:8080/"
    },
    "id": "cvlGUPROrOHo",
    "outputId": "f9ec5a90-5140-4c83-863b-c1e6ff344ff7"
   },
   "outputs": [
    {
     "name": "stdout",
     "output_type": "stream",
     "text": [
      "The augmented matrix is: \n",
      "[[1. 1. 3. 1. 0. 0.]\n",
      " [1. 2. 4. 0. 1. 0.]\n",
      " [1. 1. 2. 0. 0. 1.]]\n"
     ]
    }
   ],
   "source": [
    "A_aug = np.hstack((A, np.eye(3)))\n",
    "print(\"The augmented matrix is: \")\n",
    "print(A_aug)"
   ]
  },
  {
   "cell_type": "markdown",
   "metadata": {
    "id": "G5Wj_YjRrpQB"
   },
   "source": [
    "Apply all row transformations to convert the left 3 by 3 matrix to the identity matrix."
   ]
  },
  {
   "cell_type": "code",
   "execution_count": 20,
   "metadata": {
    "id": "4q3nqN7BrtoC"
   },
   "outputs": [],
   "source": [
    "A_aug = AddRows(A_aug,0,1, -1)\n",
    "A_aug = AddRows(A_aug,0,2,-1)\n",
    "A_aug = MultiplyRow(A_aug,2, -1)\n",
    "A_aug = AddRows(A_aug,2,1,-1)\n",
    "A_aug = AddRows(A_aug,2,0, -3)\n",
    "A_aug = AddRows(A_aug, 1, 0, -1)"
   ]
  },
  {
   "cell_type": "code",
   "execution_count": 21,
   "metadata": {
    "colab": {
     "base_uri": "https://localhost:8080/"
    },
    "id": "FsdsShxMsLDj",
    "outputId": "a4af8bde-985b-493e-8329-46b489a28da3"
   },
   "outputs": [
    {
     "data": {
      "text/plain": [
       "array([[ 1.,  0.,  0.,  0., -1.,  2.],\n",
       "       [ 0.,  1.,  0., -2.,  1.,  1.],\n",
       "       [-0., -0.,  1.,  1., -0., -1.]])"
      ]
     },
     "execution_count": 21,
     "metadata": {},
     "output_type": "execute_result"
    }
   ],
   "source": [
    "A_aug"
   ]
  },
  {
   "cell_type": "code",
   "execution_count": 22,
   "metadata": {
    "id": "d4JqzoW-sMD-"
   },
   "outputs": [],
   "source": [
    "A_inv = A_aug[-3:, -3: ]"
   ]
  },
  {
   "cell_type": "code",
   "execution_count": 23,
   "metadata": {
    "colab": {
     "base_uri": "https://localhost:8080/"
    },
    "id": "LluK_0w0sUJk",
    "outputId": "790d545d-491f-4d1f-de36-bbe116257dc7"
   },
   "outputs": [
    {
     "data": {
      "text/plain": [
       "array([[ 0., -1.,  2.],\n",
       "       [-2.,  1.,  1.],\n",
       "       [ 1., -0., -1.]])"
      ]
     },
     "execution_count": 23,
     "metadata": {},
     "output_type": "execute_result"
    }
   ],
   "source": [
    "A_inv"
   ]
  },
  {
   "cell_type": "markdown",
   "metadata": {
    "id": "LJu1Z2QKsYQf"
   },
   "source": [
    "Make sure to check whether A time A_inv gives the identity matrix:"
   ]
  },
  {
   "cell_type": "code",
   "execution_count": 24,
   "metadata": {
    "colab": {
     "base_uri": "https://localhost:8080/"
    },
    "id": "eTEv12QCsdvg",
    "outputId": "a073e147-e87d-464b-adfb-715da7d69019"
   },
   "outputs": [
    {
     "data": {
      "text/plain": [
       "array([[1., 0., 0.],\n",
       "       [0., 1., 0.],\n",
       "       [0., 0., 1.]])"
      ]
     },
     "execution_count": 24,
     "metadata": {},
     "output_type": "execute_result"
    }
   ],
   "source": [
    "A.dot(A_inv)"
   ]
  },
  {
   "cell_type": "markdown",
   "metadata": {
    "id": "eCBFedU1sovX"
   },
   "source": [
    "There is an easier way to compute the inverse of a matrix by using `np.linalg.inv` function."
   ]
  },
  {
   "cell_type": "code",
   "execution_count": 25,
   "metadata": {
    "colab": {
     "base_uri": "https://localhost:8080/"
    },
    "id": "NTpyDO1AsxN5",
    "outputId": "fab19336-e488-4c97-e457-c3187b84e125"
   },
   "outputs": [
    {
     "name": "stdout",
     "output_type": "stream",
     "text": [
      "[[ 0. -1.  2.]\n",
      " [-2.  1.  1.]\n",
      " [ 1. -0. -1.]]\n"
     ]
    }
   ],
   "source": [
    "print(np.linalg.inv(A))"
   ]
  }
 ],
 "metadata": {
  "colab": {
   "provenance": []
  },
  "kernelspec": {
   "display_name": "Python 3",
   "language": "python",
   "name": "python3"
  },
  "language_info": {
   "codemirror_mode": {
    "name": "ipython",
    "version": 3
   },
   "file_extension": ".py",
   "mimetype": "text/x-python",
   "name": "python",
   "nbconvert_exporter": "python",
   "pygments_lexer": "ipython3",
   "version": "3.8.3"
  }
 },
 "nbformat": 4,
 "nbformat_minor": 5
}
