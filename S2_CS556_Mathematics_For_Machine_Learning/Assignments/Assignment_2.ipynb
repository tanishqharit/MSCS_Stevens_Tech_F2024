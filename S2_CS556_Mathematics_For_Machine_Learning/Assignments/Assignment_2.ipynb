{
  "cells": [
    {
      "cell_type": "markdown",
      "source": [
        "- Name : Tanishq Harit\n",
        "- CWID : 20031876"
      ],
      "metadata": {
        "id": "nY-zL4-piLfD"
      }
    },
    {
      "cell_type": "markdown",
      "metadata": {
        "id": "7d4kO_YT0oDD"
      },
      "source": [
        "# System of Linear Equations with a Unique Solution, Matrix Inverse and the Determinant"
      ]
    },
    {
      "cell_type": "markdown",
      "metadata": {
        "id": "bJl8_1-B00g3"
      },
      "source": [
        "The goal of this homework is to learn how to solve systems of linear equations and to be able to compute the determinant and the inverse of an invertible matrix.\n",
        "\n",
        "**After this assignment you will be able to:**\n",
        "- Use `NumPy` package to set up the arrays corresponding to the system of linear equations.\n",
        "- Evaluate the determinant of a matrix and find the solution of the system with `NumPy` linear algebra package.\n",
        "- Perform row reduction to bring matrix into row echelon form\n",
        "- Find the solution for the system of linear equations using row reduced approach.\n",
        "- Compute the inverse of a matrix with `Numpy` linear algebra package and using row reduction approach."
      ]
    },
    {
      "cell_type": "markdown",
      "metadata": {
        "id": "al1PcVSW2LSU"
      },
      "source": [
        "## 1. Solving System of Linear Equations\n",
        "\n",
        "### 1.1 Row Reduction approach"
      ]
    },
    {
      "cell_type": "markdown",
      "metadata": {
        "id": "YKrWvcu-2j5Y"
      },
      "source": [
        "Solve the following system of linear equations using the reduction method (as mentioned in the week 2 lab):\n",
        "$$\\begin{cases}\n",
        "x + 2y - 3z + 4w = 12, \\\\ 2x + 2y - 2z + 3w = 10, \\\\ y + z = -1, \\\\ x - y + z - 2w = -4 \\end{cases}\\tag{1}$$\n"
      ]
    },
    {
      "cell_type": "code",
      "source": [
        "import numpy as np"
      ],
      "metadata": {
        "id": "bIbUBg2IetbG"
      },
      "execution_count": 1,
      "outputs": []
    },
    {
      "cell_type": "code",
      "execution_count": 2,
      "metadata": {
        "id": "DrkFDTJc4GNP",
        "colab": {
          "base_uri": "https://localhost:8080/"
        },
        "outputId": "e4480aac-b215-4cc8-aa17-1d3de1c7c3c4"
      },
      "outputs": [
        {
          "output_type": "stream",
          "name": "stdout",
          "text": [
            "Matrix A:\n",
            "[[ 1.  2. -3.  4.]\n",
            " [ 2.  2. -2.  3.]\n",
            " [ 0.  1.  1.  0.]\n",
            " [ 1. -1.  1. -2.]]\n",
            "\n",
            "Array b:\n",
            "[12. 10. -1. -4.]\n"
          ]
        }
      ],
      "source": [
        "A = np.array([\n",
        "        [1, 2, -3, 4],\n",
        "        [2, 2, -2, 3],\n",
        "        [0, 1, 1, 0],\n",
        "        [1, -1, 1, -2]\n",
        "    ], dtype=np.dtype(float))\n",
        "\n",
        "b = np.array([12, 10, -1, -4], dtype=np.dtype(float))\n",
        "\n",
        "print(\"Matrix A:\")\n",
        "print(A)\n",
        "print(\"\\nArray b:\")\n",
        "print(b)"
      ]
    },
    {
      "cell_type": "code",
      "source": [
        "# shape() method of numpy\n",
        "print(f\"Shape of A: {np.shape(A)}\")\n",
        "print(f\"Shape of b: {np.shape(b)}\")"
      ],
      "metadata": {
        "colab": {
          "base_uri": "https://localhost:8080/"
        },
        "id": "9jIi7ymvfax-",
        "outputId": "210be21a-5988-4ba5-b8ce-3b400b295b7b"
      },
      "execution_count": 3,
      "outputs": [
        {
          "output_type": "stream",
          "name": "stdout",
          "text": [
            "Shape of A: (4, 4)\n",
            "Shape of b: (4,)\n"
          ]
        }
      ]
    },
    {
      "cell_type": "code",
      "source": [
        "# Making Row Operations Functions\n",
        "def MultiplyRow(M, row, scalar):\n",
        "    \"\"\"Multiplies a row by a scalar.\"\"\"\n",
        "    M_new = M.copy()\n",
        "    M_new[row] = M_new[row] * scalar\n",
        "    return M_new\n",
        "\n",
        "def AddRows(M, row_num_1, row_num_2, scalar):\n",
        "    \"\"\"Adds scalar times row_num_1 to row_num_2.\"\"\"\n",
        "    M_new = M.copy()\n",
        "    M_new[row_num_2] = scalar * M_new[row_num_1] + M_new[row_num_2]\n",
        "    return M_new\n",
        "\n",
        "def ExchangeRows(M, row_num_1, row_num_2):\n",
        "    \"\"\"Exchanges row_num_1 and row_num_2.\"\"\"\n",
        "    M_new = M.copy()\n",
        "    M_new[[row_num_1, row_num_2]] = M_new[[row_num_2, row_num_1]]\n",
        "    return M_new"
      ],
      "metadata": {
        "id": "V76uE_A3iulz"
      },
      "execution_count": 4,
      "outputs": []
    },
    {
      "cell_type": "code",
      "source": [
        "# Augmented Matrix\n",
        "A_aug = np.array([\n",
        "    [1, 2, -3, 4, 12],\n",
        "    [2, 2, -2, 3, 10],\n",
        "    [0, 1, 1, 0, -1],\n",
        "    [1, -1, 1, -2, -4]\n",
        "], dtype=float)\n",
        "print(\"Augmented Matrix:\")\n",
        "print(A_aug)"
      ],
      "metadata": {
        "colab": {
          "base_uri": "https://localhost:8080/"
        },
        "id": "TDkC0L5TjOJo",
        "outputId": "f6ccd041-6227-4094-c499-34d7fb40c511"
      },
      "execution_count": 5,
      "outputs": [
        {
          "output_type": "stream",
          "name": "stdout",
          "text": [
            "Augmented Matrix:\n",
            "[[ 1.  2. -3.  4. 12.]\n",
            " [ 2.  2. -2.  3. 10.]\n",
            " [ 0.  1.  1.  0. -1.]\n",
            " [ 1. -1.  1. -2. -4.]]\n"
          ]
        }
      ]
    },
    {
      "cell_type": "code",
      "source": [
        "# Applying Row Operations Functions\n",
        "A_aug = AddRows(A_aug, 0, 1, -2)\n",
        "A_aug = AddRows(A_aug, 0, 3, -1)\n",
        "A_aug = MultiplyRow(A_aug, 1, 1/A_aug[1,1])\n",
        "A_aug = AddRows(A_aug, 1, 2, -A_aug[2,1])\n",
        "A_aug = AddRows(A_aug, 1, 3, -A_aug[3,1])\n",
        "A_aug = MultiplyRow(A_aug, 2, 1/A_aug[2,2])\n",
        "A_aug = AddRows(A_aug, 2, 3, -A_aug[3,2])\n",
        "A_aug = MultiplyRow(A_aug, 3, 1/A_aug[3,3])\n",
        "print(\"Row Echelon Form:\")\n",
        "print(A)"
      ],
      "metadata": {
        "colab": {
          "base_uri": "https://localhost:8080/"
        },
        "id": "xPbQc1wVgrMT",
        "outputId": "91c6cda5-752b-4c20-a6a2-dd777f6d03cc"
      },
      "execution_count": 6,
      "outputs": [
        {
          "output_type": "stream",
          "name": "stdout",
          "text": [
            "Row Echelon Form:\n",
            "[[ 1.  2. -3.  4.]\n",
            " [ 2.  2. -2.  3.]\n",
            " [ 0.  1.  1.  0.]\n",
            " [ 1. -1.  1. -2.]]\n"
          ]
        }
      ]
    },
    {
      "cell_type": "code",
      "source": [
        "# Back substitution to solve\n",
        "w = A_aug[3,4]\n",
        "z = A_aug[2,4] - A_aug[2,3] * w\n",
        "y = A_aug[1,4] - A_aug[1,2] * z - A_aug[1,3] * w\n",
        "x = A_aug[0,4] - A_aug[0,1] * y - A_aug[0,2] * z - A_aug[0,3] * w\n",
        "print(\"Solution:\")\n",
        "print(f\"x = {x}, y = {y}, z = {z}, w = {w}\")"
      ],
      "metadata": {
        "colab": {
          "base_uri": "https://localhost:8080/"
        },
        "id": "F9GrsiPlkwKq",
        "outputId": "b0788466-4e4d-4517-f200-358ba2235e67"
      },
      "execution_count": 7,
      "outputs": [
        {
          "output_type": "stream",
          "name": "stdout",
          "text": [
            "Solution:\n",
            "x = 1.0, y = 0.0, z = -1.0, w = 2.0\n"
          ]
        }
      ]
    },
    {
      "cell_type": "markdown",
      "metadata": {
        "id": "Yq8zCJ024YSK"
      },
      "source": [
        "### 1.2 `Numpy` linear algebra package\n",
        "Solve the above system of linear equations using the `numpy.linalg` package."
      ]
    },
    {
      "cell_type": "code",
      "execution_count": 8,
      "metadata": {
        "id": "zIgQXSG84uSq",
        "colab": {
          "base_uri": "https://localhost:8080/"
        },
        "outputId": "6ef2ade9-d5f6-4ce3-b404-9705d563872c"
      },
      "outputs": [
        {
          "output_type": "execute_result",
          "data": {
            "text/plain": [
              "array([ 1., -0., -1.,  2.])"
            ]
          },
          "metadata": {},
          "execution_count": 8
        }
      ],
      "source": [
        "np.linalg.solve(A, b)"
      ]
    },
    {
      "cell_type": "markdown",
      "metadata": {
        "id": "a3zNZvUI47--"
      },
      "source": [
        "## 2. Determinant\n",
        "### 2.1 Compute the determinant of matrix $A$ using the `numpy.linalg` package:\n",
        "\n",
        "$$ \\begin{align}\n",
        "  \\textbf{A}  = \\begin{bmatrix}\n",
        "1 & 0 & -2\\\\\n",
        "3 & 1 & -2\\\\\n",
        "-5 & -1 & 9\n",
        "\\end{bmatrix}\n",
        "  \\end{align}\n",
        "  $$"
      ]
    },
    {
      "cell_type": "code",
      "execution_count": 9,
      "metadata": {
        "id": "8UE20mGu5Cy4",
        "colab": {
          "base_uri": "https://localhost:8080/"
        },
        "outputId": "f1092cd1-f939-4cae-9f70-e24d6020e4a2"
      },
      "outputs": [
        {
          "output_type": "execute_result",
          "data": {
            "text/plain": [
              "3.000000000000001"
            ]
          },
          "metadata": {},
          "execution_count": 9
        }
      ],
      "source": [
        "# Matrix\n",
        "A = np.array([[1, 0, -2],\n",
        "              [3, 1, -2],\n",
        "              [-5, -1, 9]])\n",
        "\n",
        "np.linalg.det(A)"
      ]
    },
    {
      "cell_type": "markdown",
      "metadata": {
        "id": "AiwFmcw46fHm"
      },
      "source": [
        "### 2.2 Is the above matrix invertible? Why?"
      ]
    },
    {
      "cell_type": "markdown",
      "metadata": {
        "id": "YfkS_QNJ67kT"
      },
      "source": [
        "Answer here: Yes, above matrix is invertible beacuse determinant is not 0."
      ]
    },
    {
      "cell_type": "markdown",
      "metadata": {
        "id": "A_x3V2i16mWE"
      },
      "source": [
        "# 3. Matrix Inverse\n",
        "### 3.1 Compute the inverse of non-singular matrix $B$ using row reduction\n",
        "$$ \\begin{align}\n",
        "  \\textbf{B}  = \\begin{bmatrix}\n",
        "1 & 2 & 1\\\\\n",
        "4 & 4 & 5\\\\\n",
        "6 & 7 & 7\n",
        "\\end{bmatrix}\n",
        "  \\end{align}\n",
        "  $$"
      ]
    },
    {
      "cell_type": "code",
      "execution_count": 10,
      "metadata": {
        "id": "6H1rRYEs6y62",
        "colab": {
          "base_uri": "https://localhost:8080/"
        },
        "outputId": "ffe007c0-4700-42a4-add9-267530ffe13f"
      },
      "outputs": [
        {
          "output_type": "stream",
          "name": "stdout",
          "text": [
            "Augmented Matrix:\n",
            "[[1. 2. 1. 1. 0. 0.]\n",
            " [4. 4. 5. 0. 1. 0.]\n",
            " [6. 7. 7. 0. 0. 1.]]\n"
          ]
        }
      ],
      "source": [
        "# Matrix\n",
        "B = np.array([\n",
        "    [1, 2, 1],\n",
        "    [4, 4, 5],\n",
        "    [6, 7, 7]\n",
        "], dtype=float)\n",
        "\n",
        "# Augmented Matrix\n",
        "B_aug = np.hstack([B, np.eye(3)])\n",
        "print(\"Augmented Matrix:\")\n",
        "print(B_aug)"
      ]
    },
    {
      "cell_type": "code",
      "source": [
        "# Row Operations\n",
        "B_aug = MultiplyRow(B_aug, 0, 1/B_aug[0,0])\n",
        "B_aug = AddRows(B_aug, 0, 1, -B_aug[1,0])\n",
        "B_aug = AddRows(B_aug, 0, 2, -B_aug[2,0])\n",
        "B_aug = MultiplyRow(B_aug, 1, 1/B_aug[1,1])\n",
        "B_aug = AddRows(B_aug, 1, 2, -B_aug[2,1])\n",
        "B_aug = MultiplyRow(B_aug, 2, 1/B_aug[2,2])\n",
        "B_aug = AddRows(B_aug, 2, 1, -B_aug[1,2])\n",
        "B_aug = AddRows(B_aug, 1, 0, -B_aug[0,1])\n",
        "B_aug = AddRows(B_aug, 2, 0, -B_aug[0,2])\n",
        "B_aug = AddRows(B_aug, 2, 1, -B_aug[1,2])\n",
        "B_aug = AddRows(B_aug, 1, 0, -B_aug[0,1])\n",
        "B_aug = MultiplyRow(B_aug, 2, -1)\n",
        "\n",
        "B_inv = B_aug[:, 3:]\n",
        "print(\"Inverse of B:\")\n",
        "print(B_inv)"
      ],
      "metadata": {
        "colab": {
          "base_uri": "https://localhost:8080/"
        },
        "id": "pY-VqqZBu-qd",
        "outputId": "a2a38525-4661-4cde-d1a8-b9519d51ceb6"
      },
      "execution_count": 11,
      "outputs": [
        {
          "output_type": "stream",
          "name": "stdout",
          "text": [
            "Inverse of B:\n",
            "[[-7. -7.  6.]\n",
            " [ 2.  1. -1.]\n",
            " [-4. -5.  4.]]\n"
          ]
        }
      ]
    },
    {
      "cell_type": "markdown",
      "metadata": {
        "id": "5voXiito6zis"
      },
      "source": [
        "### 3.2 Compute the inverse matrix $B$ using the `numpy.linalg` package."
      ]
    },
    {
      "cell_type": "code",
      "execution_count": 12,
      "metadata": {
        "id": "BJ3MYBQ-64hV",
        "colab": {
          "base_uri": "https://localhost:8080/"
        },
        "outputId": "cd407621-ac6a-4575-d112-602237d38943"
      },
      "outputs": [
        {
          "output_type": "execute_result",
          "data": {
            "text/plain": [
              "array([[-7., -7.,  6.],\n",
              "       [ 2.,  1., -1.],\n",
              "       [ 4.,  5., -4.]])"
            ]
          },
          "metadata": {},
          "execution_count": 12
        }
      ],
      "source": [
        "np.linalg.inv(B)"
      ]
    }
  ],
  "metadata": {
    "colab": {
      "provenance": []
    },
    "kernelspec": {
      "display_name": "Python 3 (ipykernel)",
      "language": "python",
      "name": "python3"
    },
    "language_info": {
      "codemirror_mode": {
        "name": "ipython",
        "version": 3
      },
      "file_extension": ".py",
      "mimetype": "text/x-python",
      "name": "python",
      "nbconvert_exporter": "python",
      "pygments_lexer": "ipython3",
      "version": "3.9.16"
    }
  },
  "nbformat": 4,
  "nbformat_minor": 0
}