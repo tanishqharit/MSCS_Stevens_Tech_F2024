{
  "nbformat": 4,
  "nbformat_minor": 0,
  "metadata": {
    "colab": {
      "provenance": []
    },
    "kernelspec": {
      "name": "python3",
      "display_name": "Python 3"
    },
    "language_info": {
      "name": "python"
    }
  },
  "cells": [
    {
      "cell_type": "markdown",
      "source": [
        "- Name : TANISHQ HARIT\n",
        "- CWID : 20031876\n",
        "- Course : 2025S CS 556 - A&WS"
      ],
      "metadata": {
        "id": "zslDQ69EB5vC"
      }
    },
    {
      "cell_type": "markdown",
      "source": [
        "# CS556 : Week 1 Homework - Vectors and Matrices\n",
        "- In this homework, we will use Python and NumPy functions to perform main vector operations such as scalar multiplication, addition, and dot product and matrix operations such as addition and matrix multiplication."
      ],
      "metadata": {
        "id": "kAHWzNZaA4uU"
      }
    },
    {
      "cell_type": "code",
      "source": [
        "import numpy as np"
      ],
      "metadata": {
        "id": "BrslXbBFFu8u"
      },
      "execution_count": 1,
      "outputs": []
    },
    {
      "cell_type": "code",
      "execution_count": 2,
      "metadata": {
        "id": "msL3F7jDAvwv"
      },
      "outputs": [],
      "source": [
        "# Scalar Multiplication Function - Multiplying scalar with vector\n",
        "\n",
        "def ScalarMultiplication(scalar, vector):\n",
        "  return scalar * np.array(vector)"
      ]
    },
    {
      "cell_type": "code",
      "source": [
        "# AddLoop Function - Adding 2 vectors using a loop\n",
        "\n",
        "def Addition_Loop(vector_1, vector_2):\n",
        "  return [vector_1[i] + vector_2[i] for i in range(len(vector_1))]"
      ],
      "metadata": {
        "id": "7DVkbtH7BdJp"
      },
      "execution_count": 3,
      "outputs": []
    },
    {
      "cell_type": "code",
      "source": [
        "# Add Function - Adding 2 vectors using Numpy\n",
        "\n",
        "def Addition(vector_1, vector_2):\n",
        "  return np.array(vector_1) + np.array(vector_2)"
      ],
      "metadata": {
        "id": "m7P6Evt2Bf4n"
      },
      "execution_count": 4,
      "outputs": []
    },
    {
      "cell_type": "code",
      "source": [
        "# DotLoop Function - Dot product using a loop\n",
        "\n",
        "def Dot_Loop(vector_1, vector_2):\n",
        "  return sum([vector_1[i] * vector_2[i] for i in range(len(vector_1))])"
      ],
      "metadata": {
        "id": "Vetq6gWhBj2M"
      },
      "execution_count": 5,
      "outputs": []
    },
    {
      "cell_type": "code",
      "source": [
        "# AddMatrices Function - Adding matrices using Numpy\n",
        "\n",
        "def AddMatrices(matrix_1, matrix_2):\n",
        "  return np.array(matrix_1) + np.array(matrix_2)"
      ],
      "metadata": {
        "id": "COOyAGo5Blwu"
      },
      "execution_count": 6,
      "outputs": []
    },
    {
      "cell_type": "code",
      "source": [
        "# MutiplyMatricesLoop Function - Multiplying matrices using a loop\n",
        "\n",
        "def MatrixMultiplication_Loop(matrix_1, matrix_2):\n",
        "  matrix_1 = np.array(matrix_1)\n",
        "  matrix_2 = np.array(matrix_2)\n",
        "  result = [[0 for i in range(len(matrix_2[0]))] for j in range(len(matrix_1))]"
      ],
      "metadata": {
        "id": "t-wDrZq5BoAC"
      },
      "execution_count": 7,
      "outputs": []
    },
    {
      "cell_type": "code",
      "source": [
        "# Multiply Matrices Function - Multiplying matrices using Numpy\n",
        "\n",
        "def MatrixMultiplication(matrix_1, matrix_2):\n",
        "  return np.dot(np.array(matrix_1), np.array(matrix_2))"
      ],
      "metadata": {
        "id": "F93O6QFzBsGK"
      },
      "execution_count": 8,
      "outputs": []
    },
    {
      "cell_type": "code",
      "source": [
        "# Dot Function - Dot product using Numpy\n",
        "\n",
        "def Dot(vector_1, vector_2):\n",
        "  return np.dot(np.array(vector_1), np.array(vector_2))"
      ],
      "metadata": {
        "id": "1d4u4LgWBvW8"
      },
      "execution_count": 9,
      "outputs": []
    },
    {
      "cell_type": "code",
      "source": [
        "# Main Function - Testing\n",
        "\n",
        "if __name__ == \"__main__\":\n",
        "\n",
        "  vector_1 = [1,2,3,4]\n",
        "  vector_2 = [5,6,7,8]\n",
        "  print(\"Scalar Multiplication:\", ScalarMultiplication(2, vector_1))\n",
        "  print(\"Addition using Loop:\", Addition_Loop(vector_1, vector_2))\n",
        "  print(\"Addition using NumPy:\", Addition(vector_1, vector_2))\n",
        "  print(\"Dot Product using Loop:\", Dot_Loop(vector_1, vector_2))\n",
        "  print(\"Dot Product using NumPy:\", Dot(vector_1, vector_2))\n",
        "\n",
        "  matrix_1 = [[1, 2], [3, 4]]\n",
        "  matrix_2 = [[5, 6], [7, 8]]\n",
        "  print(\"Addition of Matrices using NumPy:\", AddMatrices(matrix_1, matrix_2))\n",
        "  print(\"Multiplication of Matrices using Loop:\", MatrixMultiplication_Loop(matrix_1, matrix_2))\n",
        "  print(\"Matrix Multiplication using NumPy:\", MatrixMultiplication(matrix_1, matrix_2))"
      ],
      "metadata": {
        "colab": {
          "base_uri": "https://localhost:8080/"
        },
        "id": "Js0A0asuFmB8",
        "outputId": "a093f39f-bb85-4069-f611-be26dcaff9dc"
      },
      "execution_count": 10,
      "outputs": [
        {
          "output_type": "stream",
          "name": "stdout",
          "text": [
            "Scalar Multiplication: [2 4 6 8]\n",
            "Addition using Loop: [6, 8, 10, 12]\n",
            "Addition using NumPy: [ 6  8 10 12]\n",
            "Dot Product using Loop: 70\n",
            "Dot Product using NumPy: 70\n",
            "Addition of Matrices using NumPy: [[ 6  8]\n",
            " [10 12]]\n",
            "Multiplication of Matrices using Loop: None\n",
            "Matrix Multiplication using NumPy: [[19 22]\n",
            " [43 50]]\n"
          ]
        }
      ]
    }
  ]
}